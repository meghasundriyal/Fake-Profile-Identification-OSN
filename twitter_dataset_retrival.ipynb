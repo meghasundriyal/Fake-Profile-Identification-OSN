{
 "cells": [
  {
   "cell_type": "code",
   "execution_count": 1,
   "metadata": {},
   "outputs": [
    {
     "ename": "ModuleNotFoundError",
     "evalue": "No module named 'tweepy'",
     "output_type": "error",
     "traceback": [
      "\u001b[1;31m---------------------------------------------------------------------------\u001b[0m",
      "\u001b[1;31mModuleNotFoundError\u001b[0m                       Traceback (most recent call last)",
      "\u001b[1;32m<ipython-input-1-4a0dd00541f5>\u001b[0m in \u001b[0;36m<module>\u001b[1;34m\u001b[0m\n\u001b[1;32m----> 1\u001b[1;33m \u001b[1;32mimport\u001b[0m \u001b[0mtweepy\u001b[0m\u001b[1;33m\u001b[0m\u001b[1;33m\u001b[0m\u001b[0m\n\u001b[0m\u001b[0;32m      2\u001b[0m \u001b[1;32mimport\u001b[0m \u001b[0mjson\u001b[0m\u001b[1;33m\u001b[0m\u001b[1;33m\u001b[0m\u001b[0m\n",
      "\u001b[1;31mModuleNotFoundError\u001b[0m: No module named 'tweepy'"
     ]
    }
   ],
   "source": [
    "import tweepy\n",
    "import json"
   ]
  },
  {
   "cell_type": "code",
   "execution_count": 2,
   "metadata": {},
   "outputs": [],
   "source": [
    "credentials_file=open(\"twitter_credentials.json\")\n",
    "credentials=json.load(credentials_file)"
   ]
  },
  {
   "cell_type": "code",
   "execution_count": 3,
   "metadata": {},
   "outputs": [
    {
     "name": "stdout",
     "output_type": "stream",
     "text": [
      "Reviewed the situation in the wake of cyclone conditions and heavy rain in parts of Eastern India. \n",
      "\n",
      "Spoke to WB CM… https://t.co/jqR0gOhDeg\n",
      "Yesterday, I was delighted to have got the opportunity to inaugurate the Kartarpur corridor and attend other progra… https://t.co/dONCflJKmE\n",
      "Greetings on Milad-Un-Nabi. Inspired by the thoughts of Prophet Muhammad, may this day further the spirit of harmon… https://t.co/yYkYlkAoNz\n",
      "#YouTubeSocialimpact has partnered with @Movember to help change the face of men’s health. Get your 'stache on:… https://t.co/SKDOCQ9UO1\n",
      "उन्नति के नए आयाम तय कर रही देवभूमि उत्तराखंड के निवासियों को राज्य स्थापना दिवस की बहुत-बहुत बधाई।\n",
      "My address to the nation. https://t.co/xeMEuOyun0\n",
      "I am humbled and honoured that the SGPC has conferred the ‘Kaumi Seva Puraskar’ to me. \n",
      "\n",
      "I bow to the venerable Shr… https://t.co/rL58ItulcZ\n",
      "ਮੈਂ ਗੁਰੂ ਨਾਨਕ ਦੇਵ ਜੀ ਦੀਆਂ ਸਿੱਖਿਆਵਾਂ ਤੇ ਸਿਧਾਂਤਾਂ ਅੱਗੇ ਸੀਸ ਝੁਕਾਉਂਦਾ ਹਾਂ ਤੇ ਇਹ ਪੁਰਸਕਾਰ ਉਨ੍ਹਾਂ ਦੇ ਚਰਨਾਂ ‘ਚ ਭੇਂਟ ਕਰਦਾ… https://t.co/VJQyEWOdxq\n",
      "ਸ਼੍ਰੋਮਣੀ ਗੁਰਦੁਆਰਾ ਪ੍ਰਬੰਧਕ ਕਮੇਟੀ ਵੱਲੋਂ ਮੈਨੂੰ ‘ਕੌਮੀ ਸੇਵਾ ਪੁਰਸਕਾਰ’ ਨਾਲ ਸਨਮਾਨਿਤ ਕੀਤੇ ਜਾਣ ‘ਤੇ ਆਪਣੇ ਆਪ ਨੂੰ ਬਹੁਤ ਖੁਸ਼ਕਿਸਮਤ… https://t.co/Z3mYOAwsFw\n",
      "The Kartarpur corridor will deepen the connect between lakhs of pilgrims and Shri Guru Nanak Dev Ji. \n",
      "\n",
      "It is my hon… https://t.co/YBMuVuljZP\n",
      "ਕਰਤਾਰਪੁਰ ਕੋਰੀਡੋਰ  ਲੱਖਾਂ ਸ਼ਰਧਾਲੂਆਂ ਅਤੇ ਗੁਰੂ ਨਾਨਕ ਦੇਵ ਜੀ ਦੇ ਜੁੜਾਵ ਨੂੰ ਹੋਰ ਗਹਿਰਾ ਕਰੇਗਾ \n",
      "\n",
      "ਅੱਜ ਇਸ ਕੋਰੀਡੋਰ ਦਾ ਉਦਘਾਟਨ ਕਰਨਾ… https://t.co/tgz4kAhLlg\n",
      "A commemorative coin and stamp was released in the honour of Shri Guru Nanak Dev Ji. https://t.co/3AMCk2XNL4\n",
      "ਗੁਰੂ ਨਾਨਕ ਦੇਵ ਜੀ ਦੇ ਸਤਿਕਾਰ ਵਿੱਚ ਇੱਕ ਯਾਦਗਾਰੀ ਸਿੱਕਾ ਅਤੇ ਸਟੈਂਪ ਜ਼ਾਰੀ ਕੀਤਾ ਗਿਆ https://t.co/KWcIxwItcY\n",
      "ਸ੍ਰੀ ਗੁਰੂ ਨਾਨਕ ਦੇਵ ਜੀ ਵੱਲੋਂ ਸ਼ੁਰੂ ਕੀਤੀ ਕਈ ਲੰਗਰ ਪ੍ਰਥਾ ਅੱਜ ਦੁਨੀਆਂ ਭਰ ਵਿੱਚ ਚੱਲ ਰਹੀ ਹੈ। ਸਰਬੱਤ ਦਾ ਭਲਾ ਮੰਗਣ ਵਾਲੇ ਗੁਰੂ ਨਾਨ… https://t.co/u39QXjPeAI\n",
      "The calm and peace maintained by 130 crore Indians in the run-up to today’s verdict manifests India’s inherent comm… https://t.co/OAp7hep33A\n",
      "The halls of justice have amicably concluded a matter going on for decades. Every side, every point of view was giv… https://t.co/5ydmDs1da6\n",
      "SC’s Ayodhya Judgment is notable because:\n",
      "\n",
      "It highlights that any dispute can be amicably solved in the spirit of d… https://t.co/HX9lx0HWn9\n",
      "The Honourable Supreme Court has given its verdict on the Ayodhya issue. This verdict shouldn’t be seen as a win or… https://t.co/Wr1qWtn9uA\n",
      "यह फैसला न्यायिक प्रक्रियाओं में जन सामान्य के विश्वास को और मजबूत करेगा।\n",
      "\n",
      "हमारे देश की हजारों साल पुरानी भाईचारे… https://t.co/HjupEQc6xG\n",
      "सुप्रीम कोर्ट का यह फैसला कई वजहों से महत्वपूर्ण है:\n",
      "यह बताता है कि किसी विवाद को सुलझाने में कानूनी प्रक्रिया का… https://t.co/4RaKLPN625\n"
     ]
    }
   ],
   "source": [
    "auth = tweepy.OAuthHandler(credentials[\"CONSUMER_KEY\"],credentials[\"CONSUMER_SECRET\"])\n",
    "auth.set_access_token(credentials[\"ACCESS_TOKEN\"], credentials[\"ACCESS_SECRET\"])\n",
    "api = tweepy.API(auth)\n",
    "public_tweets = api.home_timeline()\n",
    "for tweet in public_tweets:\n",
    "    print(tweet.text)"
   ]
  },
  {
   "cell_type": "code",
   "execution_count": 9,
   "metadata": {},
   "outputs": [],
   "source": [
    "\n",
    "\n",
    "\n"
   ]
  },
  {
   "cell_type": "code",
   "execution_count": null,
   "metadata": {},
   "outputs": [],
   "source": []
  },
  {
   "cell_type": "code",
   "execution_count": null,
   "metadata": {},
   "outputs": [],
   "source": []
  },
  {
   "cell_type": "code",
   "execution_count": null,
   "metadata": {},
   "outputs": [],
   "source": []
  },
  {
   "cell_type": "code",
   "execution_count": null,
   "metadata": {},
   "outputs": [],
   "source": []
  },
  {
   "cell_type": "code",
   "execution_count": null,
   "metadata": {},
   "outputs": [],
   "source": []
  },
  {
   "cell_type": "code",
   "execution_count": null,
   "metadata": {},
   "outputs": [],
   "source": []
  },
  {
   "cell_type": "code",
   "execution_count": null,
   "metadata": {},
   "outputs": [],
   "source": []
  },
  {
   "cell_type": "code",
   "execution_count": null,
   "metadata": {},
   "outputs": [],
   "source": []
  },
  {
   "cell_type": "code",
   "execution_count": null,
   "metadata": {},
   "outputs": [],
   "source": []
  },
  {
   "cell_type": "code",
   "execution_count": null,
   "metadata": {},
   "outputs": [],
   "source": []
  },
  {
   "cell_type": "code",
   "execution_count": null,
   "metadata": {},
   "outputs": [],
   "source": []
  },
  {
   "cell_type": "code",
   "execution_count": null,
   "metadata": {},
   "outputs": [],
   "source": []
  },
  {
   "cell_type": "code",
   "execution_count": null,
   "metadata": {},
   "outputs": [],
   "source": []
  },
  {
   "cell_type": "code",
   "execution_count": null,
   "metadata": {},
   "outputs": [],
   "source": []
  },
  {
   "cell_type": "code",
   "execution_count": null,
   "metadata": {},
   "outputs": [],
   "source": []
  },
  {
   "cell_type": "code",
   "execution_count": null,
   "metadata": {},
   "outputs": [],
   "source": []
  },
  {
   "cell_type": "code",
   "execution_count": null,
   "metadata": {},
   "outputs": [],
   "source": []
  },
  {
   "cell_type": "code",
   "execution_count": null,
   "metadata": {},
   "outputs": [],
   "source": []
  },
  {
   "cell_type": "code",
   "execution_count": null,
   "metadata": {},
   "outputs": [],
   "source": []
  },
  {
   "cell_type": "code",
   "execution_count": null,
   "metadata": {},
   "outputs": [],
   "source": []
  },
  {
   "cell_type": "code",
   "execution_count": null,
   "metadata": {},
   "outputs": [],
   "source": []
  },
  {
   "cell_type": "code",
   "execution_count": null,
   "metadata": {},
   "outputs": [],
   "source": []
  },
  {
   "cell_type": "code",
   "execution_count": null,
   "metadata": {},
   "outputs": [],
   "source": []
  },
  {
   "cell_type": "code",
   "execution_count": null,
   "metadata": {},
   "outputs": [],
   "source": []
  },
  {
   "cell_type": "code",
   "execution_count": 10,
   "metadata": {},
   "outputs": [],
   "source": []
  },
  {
   "cell_type": "code",
   "execution_count": 23,
   "metadata": {},
   "outputs": [],
   "source": [
    "import pandas as pd\n",
    "import numpy as np"
   ]
  },
  {
   "cell_type": "code",
   "execution_count": 24,
   "metadata": {},
   "outputs": [],
   "source": [
    "genuin_users_dataset = pd.read_csv('data/tagged dataset/A dataset of (i) genuine, (ii) traditional, and (iii) social spambot Twitter accounts/genuine_accounts.csv/users.csv')\n",
    "# genuin_tweets_dataset = pd.read_csv('data/tagged dataset/A dataset of (i) genuine, (ii) traditional, and (iii) social spambot Twitter accounts/genuine_accounts.csv/tweets.csv')"
   ]
  },
  {
   "cell_type": "code",
   "execution_count": 25,
   "metadata": {},
   "outputs": [],
   "source": [
    "fake_users_dataset_1= pd.read_csv('data/tagged dataset/A dataset of (i) genuine, (ii) traditional, and (iii) social spambot Twitter accounts/traditional_spambots_1.csv/users.csv')\n",
    "fake_users_dataset_2 = pd.read_csv('data/tagged dataset/A dataset of (i) genuine, (ii) traditional, and (iii) social spambot Twitter accounts/traditional_spambots_2.csv/users.csv')\n",
    "fake_users_dataset_3 = pd.read_csv('data/tagged dataset/A dataset of (i) genuine, (ii) traditional, and (iii) social spambot Twitter accounts/traditional_spambots_3.csv/users.csv')\n",
    "fake_users_dataset_4 = pd.read_csv('data/tagged dataset/A dataset of (i) genuine, (ii) traditional, and (iii) social spambot Twitter accounts/traditional_spambots_4.csv/users.csv')\n"
   ]
  },
  {
   "cell_type": "code",
   "execution_count": 26,
   "metadata": {},
   "outputs": [
    {
     "data": {
      "text/plain": [
       "(3474, 42)"
      ]
     },
     "execution_count": 26,
     "metadata": {},
     "output_type": "execute_result"
    }
   ],
   "source": [
    "genuin_users_dataset.shape"
   ]
  },
  {
   "cell_type": "code",
   "execution_count": 27,
   "metadata": {},
   "outputs": [
    {
     "data": {
      "text/plain": [
       "(1000, 40)"
      ]
     },
     "execution_count": 27,
     "metadata": {},
     "output_type": "execute_result"
    }
   ],
   "source": [
    "fake_users_dataset_1.shape"
   ]
  },
  {
   "cell_type": "code",
   "execution_count": 28,
   "metadata": {},
   "outputs": [
    {
     "data": {
      "text/plain": [
       "(100, 40)"
      ]
     },
     "execution_count": 28,
     "metadata": {},
     "output_type": "execute_result"
    }
   ],
   "source": [
    "fake_users_dataset_2.shape"
   ]
  },
  {
   "cell_type": "code",
   "execution_count": 29,
   "metadata": {},
   "outputs": [
    {
     "data": {
      "text/plain": [
       "(403, 40)"
      ]
     },
     "execution_count": 29,
     "metadata": {},
     "output_type": "execute_result"
    }
   ],
   "source": [
    "fake_users_dataset_3.shape"
   ]
  },
  {
   "cell_type": "code",
   "execution_count": 30,
   "metadata": {},
   "outputs": [
    {
     "data": {
      "text/plain": [
       "(1128, 40)"
      ]
     },
     "execution_count": 30,
     "metadata": {},
     "output_type": "execute_result"
    }
   ],
   "source": [
    "fake_users_dataset_4.shape"
   ]
  },
  {
   "cell_type": "code",
   "execution_count": 31,
   "metadata": {},
   "outputs": [
    {
     "data": {
      "text/plain": [
       "Index(['id', 'name', 'screen_name', 'statuses_count', 'followers_count',\n",
       "       'friends_count', 'favourites_count', 'listed_count', 'url', 'lang',\n",
       "       'time_zone', 'location', 'default_profile', 'default_profile_image',\n",
       "       'geo_enabled', 'profile_image_url', 'profile_banner_url',\n",
       "       'profile_use_background_image', 'profile_background_image_url_https',\n",
       "       'profile_text_color', 'profile_image_url_https',\n",
       "       'profile_sidebar_border_color', 'profile_background_tile',\n",
       "       'profile_sidebar_fill_color', 'profile_background_image_url',\n",
       "       'profile_background_color', 'profile_link_color', 'utc_offset',\n",
       "       'is_translator', 'follow_request_sent', 'protected', 'verified',\n",
       "       'notifications', 'description', 'contributors_enabled', 'following',\n",
       "       'created_at', 'timestamp', 'crawled_at', 'updated', 'test_set_1',\n",
       "       'test_set_2'],\n",
       "      dtype='object')"
      ]
     },
     "execution_count": 31,
     "metadata": {},
     "output_type": "execute_result"
    }
   ],
   "source": [
    "genuin_users_dataset.columns"
   ]
  },
  {
   "cell_type": "code",
   "execution_count": 10,
   "metadata": {},
   "outputs": [
    {
     "data": {
      "text/plain": [
       "Index(['id', 'name', 'screen_name', 'statuses_count', 'followers_count',\n",
       "       'friends_count', 'favourites_count', 'listed_count', 'url', 'lang',\n",
       "       'time_zone', 'location', 'default_profile', 'default_profile_image',\n",
       "       'geo_enabled', 'profile_image_url', 'profile_banner_url',\n",
       "       'profile_use_background_image', 'profile_background_image_url_https',\n",
       "       'profile_text_color', 'profile_image_url_https',\n",
       "       'profile_sidebar_border_color', 'profile_background_tile',\n",
       "       'profile_sidebar_fill_color', 'profile_background_image_url',\n",
       "       'profile_background_color', 'profile_link_color', 'utc_offset',\n",
       "       'is_translator', 'follow_request_sent', 'protected', 'verified',\n",
       "       'notifications', 'description', 'contributors_enabled', 'following',\n",
       "       'created_at', 'timestamp', 'crawled_at', 'updated'],\n",
       "      dtype='object')"
      ]
     },
     "execution_count": 10,
     "metadata": {},
     "output_type": "execute_result"
    }
   ],
   "source": [
    "fake_users_dataset_1.columns"
   ]
  },
  {
   "cell_type": "code",
   "execution_count": 17,
   "metadata": {},
   "outputs": [
    {
     "name": "stdout",
     "output_type": "stream",
     "text": [
      "id\n",
      "name\n",
      "screen_name\n",
      "statuses_count\n",
      "followers_count\n",
      "friends_count\n",
      "favourites_count\n",
      "listed_count\n",
      "url\n",
      "lang\n",
      "time_zone\n",
      "location\n",
      "default_profile\n",
      "default_profile_image\n",
      "geo_enabled\n",
      "profile_image_url\n",
      "profile_banner_url\n",
      "profile_use_background_image\n",
      "profile_background_image_url_https\n",
      "profile_text_color\n",
      "profile_image_url_https\n",
      "profile_sidebar_border_color\n",
      "profile_background_tile\n",
      "profile_sidebar_fill_color\n",
      "profile_background_image_url\n",
      "profile_background_color\n",
      "profile_link_color\n",
      "utc_offset\n",
      "is_translator\n",
      "follow_request_sent\n",
      "protected\n",
      "verified\n",
      "notifications\n",
      "description\n",
      "contributors_enabled\n",
      "following\n",
      "created_at\n",
      "timestamp\n",
      "crawled_at\n",
      "updated\n",
      "test_set_1\n",
      "test_set_2\n"
     ]
    }
   ],
   "source": [
    "for attribute in genuin_users_dataset.columns:\n",
    "    print(attribute)"
   ]
  },
  {
   "cell_type": "code",
   "execution_count": 18,
   "metadata": {},
   "outputs": [
    {
     "name": "stdout",
     "output_type": "stream",
     "text": [
      "id\n",
      "name\n",
      "screen_name\n",
      "statuses_count\n",
      "followers_count\n",
      "friends_count\n",
      "favourites_count\n",
      "listed_count\n",
      "url\n",
      "lang\n",
      "time_zone\n",
      "location\n",
      "default_profile\n",
      "default_profile_image\n",
      "geo_enabled\n",
      "profile_image_url\n",
      "profile_banner_url\n",
      "profile_use_background_image\n",
      "profile_background_image_url_https\n",
      "profile_text_color\n",
      "profile_image_url_https\n",
      "profile_sidebar_border_color\n",
      "profile_background_tile\n",
      "profile_sidebar_fill_color\n",
      "profile_background_image_url\n",
      "profile_background_color\n",
      "profile_link_color\n",
      "utc_offset\n",
      "is_translator\n",
      "follow_request_sent\n",
      "protected\n",
      "verified\n",
      "notifications\n",
      "description\n",
      "contributors_enabled\n",
      "following\n",
      "created_at\n",
      "timestamp\n",
      "crawled_at\n",
      "updated\n"
     ]
    }
   ],
   "source": [
    "for attribute in fake_users_dataset_1.columns:\n",
    "    print(attribute)"
   ]
  },
  {
   "cell_type": "code",
   "execution_count": null,
   "metadata": {},
   "outputs": [],
   "source": []
  },
  {
   "cell_type": "code",
   "execution_count": null,
   "metadata": {},
   "outputs": [],
   "source": []
  },
  {
   "cell_type": "code",
   "execution_count": 3,
   "metadata": {},
   "outputs": [
    {
     "data": {
      "text/html": [
       "<div>\n",
       "<style scoped>\n",
       "    .dataframe tbody tr th:only-of-type {\n",
       "        vertical-align: middle;\n",
       "    }\n",
       "\n",
       "    .dataframe tbody tr th {\n",
       "        vertical-align: top;\n",
       "    }\n",
       "\n",
       "    .dataframe thead th {\n",
       "        text-align: right;\n",
       "    }\n",
       "</style>\n",
       "<table border=\"1\" class=\"dataframe\">\n",
       "  <thead>\n",
       "    <tr style=\"text-align: right;\">\n",
       "      <th></th>\n",
       "      <th>id</th>\n",
       "      <th>name</th>\n",
       "      <th>screen_name</th>\n",
       "      <th>statuses_count</th>\n",
       "      <th>followers_count</th>\n",
       "      <th>friends_count</th>\n",
       "      <th>favourites_count</th>\n",
       "      <th>listed_count</th>\n",
       "      <th>url</th>\n",
       "      <th>lang</th>\n",
       "      <th>...</th>\n",
       "      <th>notifications</th>\n",
       "      <th>description</th>\n",
       "      <th>contributors_enabled</th>\n",
       "      <th>following</th>\n",
       "      <th>created_at</th>\n",
       "      <th>timestamp</th>\n",
       "      <th>crawled_at</th>\n",
       "      <th>updated</th>\n",
       "      <th>test_set_1</th>\n",
       "      <th>test_set_2</th>\n",
       "    </tr>\n",
       "  </thead>\n",
       "  <tbody>\n",
       "    <tr>\n",
       "      <th>0</th>\n",
       "      <td>1502026416</td>\n",
       "      <td>TASUKU HAYAKAWA</td>\n",
       "      <td>0918Bask</td>\n",
       "      <td>2177</td>\n",
       "      <td>208</td>\n",
       "      <td>332</td>\n",
       "      <td>265</td>\n",
       "      <td>1</td>\n",
       "      <td>NaN</td>\n",
       "      <td>ja</td>\n",
       "      <td>...</td>\n",
       "      <td>NaN</td>\n",
       "      <td>15years ago X.Lines24</td>\n",
       "      <td>NaN</td>\n",
       "      <td>NaN</td>\n",
       "      <td>Tue Jun 11 11:20:35 +0000 2013</td>\n",
       "      <td>2013-06-11 13:20:35</td>\n",
       "      <td>2015-05-02 06:41:46</td>\n",
       "      <td>2016-03-15 15:53:47</td>\n",
       "      <td>0</td>\n",
       "      <td>0</td>\n",
       "    </tr>\n",
       "    <tr>\n",
       "      <th>1</th>\n",
       "      <td>2492782375</td>\n",
       "      <td>ro_or</td>\n",
       "      <td>1120Roll</td>\n",
       "      <td>2660</td>\n",
       "      <td>330</td>\n",
       "      <td>485</td>\n",
       "      <td>3972</td>\n",
       "      <td>5</td>\n",
       "      <td>NaN</td>\n",
       "      <td>ja</td>\n",
       "      <td>...</td>\n",
       "      <td>NaN</td>\n",
       "      <td>保守見習い地元大好き人間。 経済学、電工、仏教を勉強中、ちなDeではいかんのか？ (*^◯^*)</td>\n",
       "      <td>NaN</td>\n",
       "      <td>NaN</td>\n",
       "      <td>Tue May 13 10:37:57 +0000 2014</td>\n",
       "      <td>2014-05-13 12:37:57</td>\n",
       "      <td>2015-05-01 17:20:27</td>\n",
       "      <td>2016-03-15 15:53:48</td>\n",
       "      <td>0</td>\n",
       "      <td>0</td>\n",
       "    </tr>\n",
       "    <tr>\n",
       "      <th>2</th>\n",
       "      <td>293212315</td>\n",
       "      <td>bearclaw</td>\n",
       "      <td>14KBBrown</td>\n",
       "      <td>1254</td>\n",
       "      <td>166</td>\n",
       "      <td>177</td>\n",
       "      <td>1185</td>\n",
       "      <td>0</td>\n",
       "      <td>NaN</td>\n",
       "      <td>en</td>\n",
       "      <td>...</td>\n",
       "      <td>NaN</td>\n",
       "      <td>Let me see what your best move is!</td>\n",
       "      <td>NaN</td>\n",
       "      <td>NaN</td>\n",
       "      <td>Wed May 04 23:30:37 +0000 2011</td>\n",
       "      <td>2011-05-05 01:30:37</td>\n",
       "      <td>2015-05-01 18:48:28</td>\n",
       "      <td>2016-03-15 15:53:48</td>\n",
       "      <td>0</td>\n",
       "      <td>0</td>\n",
       "    </tr>\n",
       "    <tr>\n",
       "      <th>3</th>\n",
       "      <td>191839658</td>\n",
       "      <td>pocahontas farida</td>\n",
       "      <td>wadespeters</td>\n",
       "      <td>202968</td>\n",
       "      <td>2248</td>\n",
       "      <td>981</td>\n",
       "      <td>60304</td>\n",
       "      <td>101</td>\n",
       "      <td>http://t.co/rGV0HIJGsu</td>\n",
       "      <td>en</td>\n",
       "      <td>...</td>\n",
       "      <td>NaN</td>\n",
       "      <td>20. menna: #farida #nyc and the 80s actually y...</td>\n",
       "      <td>NaN</td>\n",
       "      <td>NaN</td>\n",
       "      <td>Fri Sep 17 14:02:10 +0000 2010</td>\n",
       "      <td>2010-09-17 16:02:10</td>\n",
       "      <td>2015-05-01 13:55:16</td>\n",
       "      <td>2016-03-15 15:53:48</td>\n",
       "      <td>0</td>\n",
       "      <td>0</td>\n",
       "    </tr>\n",
       "    <tr>\n",
       "      <th>4</th>\n",
       "      <td>3020965143</td>\n",
       "      <td>Ms Kathy</td>\n",
       "      <td>191a5bd05da04dc</td>\n",
       "      <td>82</td>\n",
       "      <td>21</td>\n",
       "      <td>79</td>\n",
       "      <td>5</td>\n",
       "      <td>0</td>\n",
       "      <td>NaN</td>\n",
       "      <td>en</td>\n",
       "      <td>...</td>\n",
       "      <td>NaN</td>\n",
       "      <td>Cosmetologist</td>\n",
       "      <td>NaN</td>\n",
       "      <td>NaN</td>\n",
       "      <td>Fri Feb 06 04:10:49 +0000 2015</td>\n",
       "      <td>2015-02-06 05:10:49</td>\n",
       "      <td>2015-05-02 01:17:32</td>\n",
       "      <td>2016-03-15 15:53:48</td>\n",
       "      <td>0</td>\n",
       "      <td>0</td>\n",
       "    </tr>\n",
       "  </tbody>\n",
       "</table>\n",
       "<p>5 rows × 42 columns</p>\n",
       "</div>"
      ],
      "text/plain": [
       "           id               name      screen_name  statuses_count  \\\n",
       "0  1502026416    TASUKU HAYAKAWA         0918Bask            2177   \n",
       "1  2492782375              ro_or         1120Roll            2660   \n",
       "2   293212315           bearclaw        14KBBrown            1254   \n",
       "3   191839658  pocahontas farida      wadespeters          202968   \n",
       "4  3020965143           Ms Kathy  191a5bd05da04dc              82   \n",
       "\n",
       "   followers_count  friends_count  favourites_count  listed_count  \\\n",
       "0              208            332               265             1   \n",
       "1              330            485              3972             5   \n",
       "2              166            177              1185             0   \n",
       "3             2248            981             60304           101   \n",
       "4               21             79                 5             0   \n",
       "\n",
       "                      url lang  ... notifications  \\\n",
       "0                     NaN   ja  ...           NaN   \n",
       "1                     NaN   ja  ...           NaN   \n",
       "2                     NaN   en  ...           NaN   \n",
       "3  http://t.co/rGV0HIJGsu   en  ...           NaN   \n",
       "4                     NaN   en  ...           NaN   \n",
       "\n",
       "                                         description  contributors_enabled  \\\n",
       "0                              15years ago X.Lines24                   NaN   \n",
       "1   保守見習い地元大好き人間。 経済学、電工、仏教を勉強中、ちなDeではいかんのか？ (*^◯^*)                   NaN   \n",
       "2                 Let me see what your best move is!                   NaN   \n",
       "3  20. menna: #farida #nyc and the 80s actually y...                   NaN   \n",
       "4                                      Cosmetologist                   NaN   \n",
       "\n",
       "   following                      created_at            timestamp  \\\n",
       "0        NaN  Tue Jun 11 11:20:35 +0000 2013  2013-06-11 13:20:35   \n",
       "1        NaN  Tue May 13 10:37:57 +0000 2014  2014-05-13 12:37:57   \n",
       "2        NaN  Wed May 04 23:30:37 +0000 2011  2011-05-05 01:30:37   \n",
       "3        NaN  Fri Sep 17 14:02:10 +0000 2010  2010-09-17 16:02:10   \n",
       "4        NaN  Fri Feb 06 04:10:49 +0000 2015  2015-02-06 05:10:49   \n",
       "\n",
       "            crawled_at              updated test_set_1 test_set_2  \n",
       "0  2015-05-02 06:41:46  2016-03-15 15:53:47          0          0  \n",
       "1  2015-05-01 17:20:27  2016-03-15 15:53:48          0          0  \n",
       "2  2015-05-01 18:48:28  2016-03-15 15:53:48          0          0  \n",
       "3  2015-05-01 13:55:16  2016-03-15 15:53:48          0          0  \n",
       "4  2015-05-02 01:17:32  2016-03-15 15:53:48          0          0  \n",
       "\n",
       "[5 rows x 42 columns]"
      ]
     },
     "execution_count": 3,
     "metadata": {},
     "output_type": "execute_result"
    }
   ],
   "source": [
    "genuin_users_dataset.head()"
   ]
  },
  {
   "cell_type": "code",
   "execution_count": 6,
   "metadata": {},
   "outputs": [
    {
     "data": {
      "text/plain": [
       "Index(['id', 'name', 'screen_name', 'statuses_count', 'followers_count',\n",
       "       'friends_count', 'favourites_count', 'listed_count', 'url', 'lang',\n",
       "       'time_zone', 'location', 'default_profile', 'default_profile_image',\n",
       "       'geo_enabled', 'profile_image_url', 'profile_banner_url',\n",
       "       'profile_use_background_image', 'profile_background_image_url_https',\n",
       "       'profile_text_color', 'profile_image_url_https',\n",
       "       'profile_sidebar_border_color', 'profile_background_tile',\n",
       "       'profile_sidebar_fill_color', 'profile_background_image_url',\n",
       "       'profile_background_color', 'profile_link_color', 'utc_offset',\n",
       "       'is_translator', 'follow_request_sent', 'protected', 'verified',\n",
       "       'notifications', 'description', 'contributors_enabled', 'following',\n",
       "       'created_at', 'timestamp', 'crawled_at', 'updated'],\n",
       "      dtype='object')"
      ]
     },
     "execution_count": 6,
     "metadata": {},
     "output_type": "execute_result"
    }
   ],
   "source": [
    "fake_users_dataset.columns"
   ]
  },
  {
   "cell_type": "code",
   "execution_count": 7,
   "metadata": {},
   "outputs": [
    {
     "data": {
      "text/plain": [
       "Index(['id', 'name', 'screen_name', 'statuses_count', 'followers_count',\n",
       "       'friends_count', 'favourites_count', 'listed_count', 'url', 'lang',\n",
       "       'time_zone', 'location', 'default_profile', 'default_profile_image',\n",
       "       'geo_enabled', 'profile_image_url', 'profile_banner_url',\n",
       "       'profile_use_background_image', 'profile_background_image_url_https',\n",
       "       'profile_text_color', 'profile_image_url_https',\n",
       "       'profile_sidebar_border_color', 'profile_background_tile',\n",
       "       'profile_sidebar_fill_color', 'profile_background_image_url',\n",
       "       'profile_background_color', 'profile_link_color', 'utc_offset',\n",
       "       'is_translator', 'follow_request_sent', 'protected', 'verified',\n",
       "       'notifications', 'description', 'contributors_enabled', 'following',\n",
       "       'created_at', 'timestamp', 'crawled_at', 'updated', 'test_set_1',\n",
       "       'test_set_2'],\n",
       "      dtype='object')"
      ]
     },
     "execution_count": 7,
     "metadata": {},
     "output_type": "execute_result"
    }
   ],
   "source": [
    "genuin_users_dataset.columns"
   ]
  },
  {
   "cell_type": "code",
   "execution_count": 13,
   "metadata": {},
   "outputs": [
    {
     "data": {
      "text/html": [
       "<div>\n",
       "<style scoped>\n",
       "    .dataframe tbody tr th:only-of-type {\n",
       "        vertical-align: middle;\n",
       "    }\n",
       "\n",
       "    .dataframe tbody tr th {\n",
       "        vertical-align: top;\n",
       "    }\n",
       "\n",
       "    .dataframe thead th {\n",
       "        text-align: right;\n",
       "    }\n",
       "</style>\n",
       "<table border=\"1\" class=\"dataframe\">\n",
       "  <thead>\n",
       "    <tr style=\"text-align: right;\">\n",
       "      <th></th>\n",
       "      <th>id</th>\n",
       "      <th>text</th>\n",
       "      <th>source</th>\n",
       "      <th>user_id</th>\n",
       "      <th>truncated</th>\n",
       "      <th>in_reply_to_status_id</th>\n",
       "      <th>in_reply_to_user_id</th>\n",
       "      <th>in_reply_to_screen_name</th>\n",
       "      <th>retweeted_status_id</th>\n",
       "      <th>geo</th>\n",
       "      <th>...</th>\n",
       "      <th>favorited</th>\n",
       "      <th>retweeted</th>\n",
       "      <th>possibly_sensitive</th>\n",
       "      <th>num_hashtags</th>\n",
       "      <th>num_urls</th>\n",
       "      <th>num_mentions</th>\n",
       "      <th>created_at</th>\n",
       "      <th>timestamp</th>\n",
       "      <th>crawled_at</th>\n",
       "      <th>updated</th>\n",
       "    </tr>\n",
       "  </thead>\n",
       "  <tbody>\n",
       "    <tr>\n",
       "      <th>0</th>\n",
       "      <td>593932392663912449</td>\n",
       "      <td>RT @morningJewshow: Speaking about Jews and co...</td>\n",
       "      <td>&lt;a href=\"http://tapbots.com/tweetbot\" rel=\"nof...</td>\n",
       "      <td>678033.0</td>\n",
       "      <td>NaN</td>\n",
       "      <td>0.0</td>\n",
       "      <td>0.0</td>\n",
       "      <td>NaN</td>\n",
       "      <td>5.939322e+17</td>\n",
       "      <td>NaN</td>\n",
       "      <td>...</td>\n",
       "      <td>NaN</td>\n",
       "      <td>NaN</td>\n",
       "      <td>NaN</td>\n",
       "      <td>0.0</td>\n",
       "      <td>0.0</td>\n",
       "      <td>1.0</td>\n",
       "      <td>Fri May 01 00:18:11 +0000 2015</td>\n",
       "      <td>2015-05-01 02:18:11</td>\n",
       "      <td>2015-05-01 12:57:19</td>\n",
       "      <td>2015-05-01 12:57:19</td>\n",
       "    </tr>\n",
       "    <tr>\n",
       "      <th>1</th>\n",
       "      <td>593895316719423488</td>\n",
       "      <td>This age/face recognition thing..no reason pla...</td>\n",
       "      <td>&lt;a href=\"http://twitter.com\" rel=\"nofollow\"&gt;Tw...</td>\n",
       "      <td>678033.0</td>\n",
       "      <td>NaN</td>\n",
       "      <td>0.0</td>\n",
       "      <td>0.0</td>\n",
       "      <td>NaN</td>\n",
       "      <td>0.000000e+00</td>\n",
       "      <td>NaN</td>\n",
       "      <td>...</td>\n",
       "      <td>NaN</td>\n",
       "      <td>NaN</td>\n",
       "      <td>NaN</td>\n",
       "      <td>0.0</td>\n",
       "      <td>0.0</td>\n",
       "      <td>0.0</td>\n",
       "      <td>Thu Apr 30 21:50:52 +0000 2015</td>\n",
       "      <td>2015-04-30 23:50:52</td>\n",
       "      <td>2015-05-01 12:57:19</td>\n",
       "      <td>2015-05-01 12:57:19</td>\n",
       "    </tr>\n",
       "    <tr>\n",
       "      <th>2</th>\n",
       "      <td>593880638069018624</td>\n",
       "      <td>Only upside of the moment I can think of is th...</td>\n",
       "      <td>&lt;a href=\"http://twitter.com\" rel=\"nofollow\"&gt;Tw...</td>\n",
       "      <td>678033.0</td>\n",
       "      <td>NaN</td>\n",
       "      <td>0.0</td>\n",
       "      <td>0.0</td>\n",
       "      <td>NaN</td>\n",
       "      <td>0.000000e+00</td>\n",
       "      <td>NaN</td>\n",
       "      <td>...</td>\n",
       "      <td>NaN</td>\n",
       "      <td>NaN</td>\n",
       "      <td>NaN</td>\n",
       "      <td>2.0</td>\n",
       "      <td>0.0</td>\n",
       "      <td>0.0</td>\n",
       "      <td>Thu Apr 30 20:52:32 +0000 2015</td>\n",
       "      <td>2015-04-30 22:52:32</td>\n",
       "      <td>2015-05-01 12:57:19</td>\n",
       "      <td>2015-05-01 12:57:19</td>\n",
       "    </tr>\n",
       "    <tr>\n",
       "      <th>3</th>\n",
       "      <td>593847955536252928</td>\n",
       "      <td>If you're going to think about+create experien...</td>\n",
       "      <td>&lt;a href=\"http://tapbots.com/tweetbot\" rel=\"nof...</td>\n",
       "      <td>678033.0</td>\n",
       "      <td>NaN</td>\n",
       "      <td>0.0</td>\n",
       "      <td>0.0</td>\n",
       "      <td>NaN</td>\n",
       "      <td>0.000000e+00</td>\n",
       "      <td>NaN</td>\n",
       "      <td>...</td>\n",
       "      <td>NaN</td>\n",
       "      <td>NaN</td>\n",
       "      <td>NaN</td>\n",
       "      <td>2.0</td>\n",
       "      <td>0.0</td>\n",
       "      <td>0.0</td>\n",
       "      <td>Thu Apr 30 18:42:40 +0000 2015</td>\n",
       "      <td>2015-04-30 20:42:40</td>\n",
       "      <td>2015-05-01 12:57:19</td>\n",
       "      <td>2015-05-01 12:57:19</td>\n",
       "    </tr>\n",
       "    <tr>\n",
       "      <th>4</th>\n",
       "      <td>593847687847350272</td>\n",
       "      <td>Watching a thread on FB about possible future ...</td>\n",
       "      <td>&lt;a href=\"http://tapbots.com/tweetbot\" rel=\"nof...</td>\n",
       "      <td>678033.0</td>\n",
       "      <td>NaN</td>\n",
       "      <td>0.0</td>\n",
       "      <td>0.0</td>\n",
       "      <td>NaN</td>\n",
       "      <td>0.000000e+00</td>\n",
       "      <td>NaN</td>\n",
       "      <td>...</td>\n",
       "      <td>NaN</td>\n",
       "      <td>NaN</td>\n",
       "      <td>NaN</td>\n",
       "      <td>0.0</td>\n",
       "      <td>0.0</td>\n",
       "      <td>0.0</td>\n",
       "      <td>Thu Apr 30 18:41:36 +0000 2015</td>\n",
       "      <td>2015-04-30 20:41:36</td>\n",
       "      <td>2015-05-01 12:57:19</td>\n",
       "      <td>2015-05-01 12:57:19</td>\n",
       "    </tr>\n",
       "  </tbody>\n",
       "</table>\n",
       "<p>5 rows × 25 columns</p>\n",
       "</div>"
      ],
      "text/plain": [
       "                   id                                               text  \\\n",
       "0  593932392663912449  RT @morningJewshow: Speaking about Jews and co...   \n",
       "1  593895316719423488  This age/face recognition thing..no reason pla...   \n",
       "2  593880638069018624  Only upside of the moment I can think of is th...   \n",
       "3  593847955536252928  If you're going to think about+create experien...   \n",
       "4  593847687847350272  Watching a thread on FB about possible future ...   \n",
       "\n",
       "                                              source   user_id  truncated  \\\n",
       "0  <a href=\"http://tapbots.com/tweetbot\" rel=\"nof...  678033.0        NaN   \n",
       "1  <a href=\"http://twitter.com\" rel=\"nofollow\">Tw...  678033.0        NaN   \n",
       "2  <a href=\"http://twitter.com\" rel=\"nofollow\">Tw...  678033.0        NaN   \n",
       "3  <a href=\"http://tapbots.com/tweetbot\" rel=\"nof...  678033.0        NaN   \n",
       "4  <a href=\"http://tapbots.com/tweetbot\" rel=\"nof...  678033.0        NaN   \n",
       "\n",
       "   in_reply_to_status_id  in_reply_to_user_id in_reply_to_screen_name  \\\n",
       "0                    0.0                  0.0                     NaN   \n",
       "1                    0.0                  0.0                     NaN   \n",
       "2                    0.0                  0.0                     NaN   \n",
       "3                    0.0                  0.0                     NaN   \n",
       "4                    0.0                  0.0                     NaN   \n",
       "\n",
       "   retweeted_status_id  geo  ... favorited  retweeted  possibly_sensitive  \\\n",
       "0         5.939322e+17  NaN  ...       NaN        NaN                 NaN   \n",
       "1         0.000000e+00  NaN  ...       NaN        NaN                 NaN   \n",
       "2         0.000000e+00  NaN  ...       NaN        NaN                 NaN   \n",
       "3         0.000000e+00  NaN  ...       NaN        NaN                 NaN   \n",
       "4         0.000000e+00  NaN  ...       NaN        NaN                 NaN   \n",
       "\n",
       "   num_hashtags  num_urls  num_mentions                      created_at  \\\n",
       "0           0.0       0.0           1.0  Fri May 01 00:18:11 +0000 2015   \n",
       "1           0.0       0.0           0.0  Thu Apr 30 21:50:52 +0000 2015   \n",
       "2           2.0       0.0           0.0  Thu Apr 30 20:52:32 +0000 2015   \n",
       "3           2.0       0.0           0.0  Thu Apr 30 18:42:40 +0000 2015   \n",
       "4           0.0       0.0           0.0  Thu Apr 30 18:41:36 +0000 2015   \n",
       "\n",
       "             timestamp           crawled_at              updated  \n",
       "0  2015-05-01 02:18:11  2015-05-01 12:57:19  2015-05-01 12:57:19  \n",
       "1  2015-04-30 23:50:52  2015-05-01 12:57:19  2015-05-01 12:57:19  \n",
       "2  2015-04-30 22:52:32  2015-05-01 12:57:19  2015-05-01 12:57:19  \n",
       "3  2015-04-30 20:42:40  2015-05-01 12:57:19  2015-05-01 12:57:19  \n",
       "4  2015-04-30 20:41:36  2015-05-01 12:57:19  2015-05-01 12:57:19  \n",
       "\n",
       "[5 rows x 25 columns]"
      ]
     },
     "execution_count": 13,
     "metadata": {},
     "output_type": "execute_result"
    }
   ],
   "source": [
    "genuin_tweets_dataset.head()"
   ]
  },
  {
   "cell_type": "code",
   "execution_count": 14,
   "metadata": {},
   "outputs": [
    {
     "ename": "ValueError",
     "evalue": "columns overlap but no suffix specified: Index(['created_at', 'timestamp', 'crawled_at', 'updated'], dtype='object')",
     "output_type": "error",
     "traceback": [
      "\u001b[0;31m---------------------------------------------------------------------------\u001b[0m",
      "\u001b[0;31mValueError\u001b[0m                                Traceback (most recent call last)",
      "\u001b[0;32m<ipython-input-14-ac983f063335>\u001b[0m in \u001b[0;36m<module>\u001b[0;34m\u001b[0m\n\u001b[0;32m----> 1\u001b[0;31m \u001b[0mgenuin_dataset\u001b[0m\u001b[0;34m=\u001b[0m \u001b[0mgenuin_users_dataset\u001b[0m\u001b[0;34m.\u001b[0m\u001b[0mset_index\u001b[0m\u001b[0;34m(\u001b[0m\u001b[0;34m'id'\u001b[0m\u001b[0;34m)\u001b[0m\u001b[0;34m.\u001b[0m\u001b[0mjoin\u001b[0m\u001b[0;34m(\u001b[0m\u001b[0mgenuin_tweets_dataset\u001b[0m\u001b[0;34m.\u001b[0m\u001b[0mset_index\u001b[0m\u001b[0;34m(\u001b[0m\u001b[0;34m'user_id'\u001b[0m\u001b[0;34m)\u001b[0m\u001b[0;34m,\u001b[0m\u001b[0mhow\u001b[0m\u001b[0;34m=\u001b[0m\u001b[0;34m'inner'\u001b[0m\u001b[0;34m)\u001b[0m\u001b[0;34m\u001b[0m\u001b[0;34m\u001b[0m\u001b[0m\n\u001b[0m",
      "\u001b[0;32m/usr/local/lib/python3.6/dist-packages/pandas/core/frame.py\u001b[0m in \u001b[0;36mjoin\u001b[0;34m(self, other, on, how, lsuffix, rsuffix, sort)\u001b[0m\n\u001b[1;32m   6813\u001b[0m         \u001b[0;31m# For SparseDataFrame's benefit\u001b[0m\u001b[0;34m\u001b[0m\u001b[0;34m\u001b[0m\u001b[0;34m\u001b[0m\u001b[0m\n\u001b[1;32m   6814\u001b[0m         return self._join_compat(other, on=on, how=how, lsuffix=lsuffix,\n\u001b[0;32m-> 6815\u001b[0;31m                                  rsuffix=rsuffix, sort=sort)\n\u001b[0m\u001b[1;32m   6816\u001b[0m \u001b[0;34m\u001b[0m\u001b[0m\n\u001b[1;32m   6817\u001b[0m     def _join_compat(self, other, on=None, how='left', lsuffix='', rsuffix='',\n",
      "\u001b[0;32m/usr/local/lib/python3.6/dist-packages/pandas/core/frame.py\u001b[0m in \u001b[0;36m_join_compat\u001b[0;34m(self, other, on, how, lsuffix, rsuffix, sort)\u001b[0m\n\u001b[1;32m   6828\u001b[0m             return merge(self, other, left_on=on, how=how,\n\u001b[1;32m   6829\u001b[0m                          \u001b[0mleft_index\u001b[0m\u001b[0;34m=\u001b[0m\u001b[0mon\u001b[0m \u001b[0;32mis\u001b[0m \u001b[0;32mNone\u001b[0m\u001b[0;34m,\u001b[0m \u001b[0mright_index\u001b[0m\u001b[0;34m=\u001b[0m\u001b[0;32mTrue\u001b[0m\u001b[0;34m,\u001b[0m\u001b[0;34m\u001b[0m\u001b[0;34m\u001b[0m\u001b[0m\n\u001b[0;32m-> 6830\u001b[0;31m                          suffixes=(lsuffix, rsuffix), sort=sort)\n\u001b[0m\u001b[1;32m   6831\u001b[0m         \u001b[0;32melse\u001b[0m\u001b[0;34m:\u001b[0m\u001b[0;34m\u001b[0m\u001b[0;34m\u001b[0m\u001b[0m\n\u001b[1;32m   6832\u001b[0m             \u001b[0;32mif\u001b[0m \u001b[0mon\u001b[0m \u001b[0;32mis\u001b[0m \u001b[0;32mnot\u001b[0m \u001b[0;32mNone\u001b[0m\u001b[0;34m:\u001b[0m\u001b[0;34m\u001b[0m\u001b[0;34m\u001b[0m\u001b[0m\n",
      "\u001b[0;32m/usr/local/lib/python3.6/dist-packages/pandas/core/reshape/merge.py\u001b[0m in \u001b[0;36mmerge\u001b[0;34m(left, right, how, on, left_on, right_on, left_index, right_index, sort, suffixes, copy, indicator, validate)\u001b[0m\n\u001b[1;32m     46\u001b[0m                          \u001b[0mcopy\u001b[0m\u001b[0;34m=\u001b[0m\u001b[0mcopy\u001b[0m\u001b[0;34m,\u001b[0m \u001b[0mindicator\u001b[0m\u001b[0;34m=\u001b[0m\u001b[0mindicator\u001b[0m\u001b[0;34m,\u001b[0m\u001b[0;34m\u001b[0m\u001b[0;34m\u001b[0m\u001b[0m\n\u001b[1;32m     47\u001b[0m                          validate=validate)\n\u001b[0;32m---> 48\u001b[0;31m     \u001b[0;32mreturn\u001b[0m \u001b[0mop\u001b[0m\u001b[0;34m.\u001b[0m\u001b[0mget_result\u001b[0m\u001b[0;34m(\u001b[0m\u001b[0;34m)\u001b[0m\u001b[0;34m\u001b[0m\u001b[0;34m\u001b[0m\u001b[0m\n\u001b[0m\u001b[1;32m     49\u001b[0m \u001b[0;34m\u001b[0m\u001b[0m\n\u001b[1;32m     50\u001b[0m \u001b[0;34m\u001b[0m\u001b[0m\n",
      "\u001b[0;32m/usr/local/lib/python3.6/dist-packages/pandas/core/reshape/merge.py\u001b[0m in \u001b[0;36mget_result\u001b[0;34m(self)\u001b[0m\n\u001b[1;32m    550\u001b[0m \u001b[0;34m\u001b[0m\u001b[0m\n\u001b[1;32m    551\u001b[0m         llabels, rlabels = items_overlap_with_suffix(ldata.items, lsuf,\n\u001b[0;32m--> 552\u001b[0;31m                                                      rdata.items, rsuf)\n\u001b[0m\u001b[1;32m    553\u001b[0m \u001b[0;34m\u001b[0m\u001b[0m\n\u001b[1;32m    554\u001b[0m         \u001b[0mlindexers\u001b[0m \u001b[0;34m=\u001b[0m \u001b[0;34m{\u001b[0m\u001b[0;36m1\u001b[0m\u001b[0;34m:\u001b[0m \u001b[0mleft_indexer\u001b[0m\u001b[0;34m}\u001b[0m \u001b[0;32mif\u001b[0m \u001b[0mleft_indexer\u001b[0m \u001b[0;32mis\u001b[0m \u001b[0;32mnot\u001b[0m \u001b[0;32mNone\u001b[0m \u001b[0;32melse\u001b[0m \u001b[0;34m{\u001b[0m\u001b[0;34m}\u001b[0m\u001b[0;34m\u001b[0m\u001b[0;34m\u001b[0m\u001b[0m\n",
      "\u001b[0;32m/usr/local/lib/python3.6/dist-packages/pandas/core/internals/managers.py\u001b[0m in \u001b[0;36mitems_overlap_with_suffix\u001b[0;34m(left, lsuffix, right, rsuffix)\u001b[0m\n\u001b[1;32m   1970\u001b[0m         \u001b[0;32mif\u001b[0m \u001b[0;32mnot\u001b[0m \u001b[0mlsuffix\u001b[0m \u001b[0;32mand\u001b[0m \u001b[0;32mnot\u001b[0m \u001b[0mrsuffix\u001b[0m\u001b[0;34m:\u001b[0m\u001b[0;34m\u001b[0m\u001b[0;34m\u001b[0m\u001b[0m\n\u001b[1;32m   1971\u001b[0m             raise ValueError('columns overlap but no suffix specified: '\n\u001b[0;32m-> 1972\u001b[0;31m                              '{rename}'.format(rename=to_rename))\n\u001b[0m\u001b[1;32m   1973\u001b[0m \u001b[0;34m\u001b[0m\u001b[0m\n\u001b[1;32m   1974\u001b[0m         \u001b[0;32mdef\u001b[0m \u001b[0mlrenamer\u001b[0m\u001b[0;34m(\u001b[0m\u001b[0mx\u001b[0m\u001b[0;34m)\u001b[0m\u001b[0;34m:\u001b[0m\u001b[0;34m\u001b[0m\u001b[0;34m\u001b[0m\u001b[0m\n",
      "\u001b[0;31mValueError\u001b[0m: columns overlap but no suffix specified: Index(['created_at', 'timestamp', 'crawled_at', 'updated'], dtype='object')"
     ]
    }
   ],
   "source": [
    "genuin_dataset= genuin_users_dataset.set_index('id').join(genuin_tweets_dataset.set_index('user_id'),how='inner')"
   ]
  },
  {
   "cell_type": "code",
   "execution_count": 20,
   "metadata": {},
   "outputs": [
    {
     "data": {
      "text/plain": [
       "id                          object\n",
       "text                        object\n",
       "source                      object\n",
       "user_id                    float64\n",
       "truncated                  float64\n",
       "in_reply_to_status_id      float64\n",
       "in_reply_to_user_id        float64\n",
       "in_reply_to_screen_name     object\n",
       "retweeted_status_id        float64\n",
       "geo                        float64\n",
       "place                       object\n",
       "contributors               float64\n",
       "retweet_count              float64\n",
       "reply_count                float64\n",
       "favorite_count             float64\n",
       "favorited                  float64\n",
       "retweeted                  float64\n",
       "possibly_sensitive         float64\n",
       "num_hashtags               float64\n",
       "num_urls                   float64\n",
       "num_mentions               float64\n",
       "created_at                  object\n",
       "timestamp                   object\n",
       "crawled_at                  object\n",
       "updated                     object\n",
       "dtype: object"
      ]
     },
     "execution_count": 20,
     "metadata": {},
     "output_type": "execute_result"
    }
   ],
   "source": [
    "genuin_tweets_dataset.dtypes\n"
   ]
  },
  {
   "cell_type": "code",
   "execution_count": null,
   "metadata": {},
   "outputs": [],
   "source": [
    "users=pd.read_cs"
   ]
  }
 ],
 "metadata": {
  "kernelspec": {
   "display_name": "Python 3",
   "language": "python",
   "name": "python3"
  },
  "language_info": {
   "codemirror_mode": {
    "name": "ipython",
    "version": 3
   },
   "file_extension": ".py",
   "mimetype": "text/x-python",
   "name": "python",
   "nbconvert_exporter": "python",
   "pygments_lexer": "ipython3",
   "version": "3.6.9"
  }
 },
 "nbformat": 4,
 "nbformat_minor": 2
}
