{
 "cells": [
  {
   "cell_type": "markdown",
   "metadata": {},
   "source": [
    "<center>\n",
    "    <H1> k-NN CLASSIFIER </H1>\n",
    "    <br>\n",
    "=====================================================================================================================\n",
    "<br>\n",
    "k Nearest Neighbours algorithm is a type of supervised Machine Learning algorithm. It is extremely easy to implement in its most basic form. k-NN avoids trainig of the model and hence also called 'Lazy Learner'.\n",
    "</center>"
   ]
  },
  {
   "attachments": {
    "image.png": {
     "image/png": "[encoded data removed]"
    }
   },
   "cell_type": "markdown",
   "metadata": {},
   "source": [
    "![image.png](attachment:image.png)"
   ]
  },
  {
   "cell_type": "markdown",
   "metadata": {},
   "source": [
    "## STEP 1: IMPORT LIBRARIES"
   ]
  },
  {
   "cell_type": "code",
   "execution_count": 14,
   "metadata": {},
   "outputs": [],
   "source": [
    "import pandas as pd\n",
    "import numpy as np\n",
    "#from tabulate import tabulate\n",
    "from sklearn.neighbors import KNeighborsClassifier\n",
    "from sklearn.model_selection import train_test_split \n",
    "from sklearn.metrics import confusion_matrix, accuracy_score\n",
    "import k_nearest_neighbors as my_k_nearest_neighbors"
   ]
  },
  {
   "cell_type": "markdown",
   "metadata": {},
   "source": [
    "## STEP 2: LOAD DATASET"
   ]
  },
  {
   "cell_type": "code",
   "execution_count": 15,
   "metadata": {},
   "outputs": [
    {
     "data": {
      "text/html": [
       "<div>\n",
       "<style scoped>\n",
       "    .dataframe tbody tr th:only-of-type {\n",
       "        vertical-align: middle;\n",
       "    }\n",
       "\n",
       "    .dataframe tbody tr th {\n",
       "        vertical-align: top;\n",
       "    }\n",
       "\n",
       "    .dataframe thead th {\n",
       "        text-align: right;\n",
       "    }\n",
       "</style>\n",
       "<table border=\"1\" class=\"dataframe\">\n",
       "  <thead>\n",
       "    <tr style=\"text-align: right;\">\n",
       "      <th></th>\n",
       "      <th>name_wt</th>\n",
       "      <th>statuses_count</th>\n",
       "      <th>followers_count</th>\n",
       "      <th>friends_count</th>\n",
       "      <th>favourites_count</th>\n",
       "      <th>listed_count</th>\n",
       "      <th>label</th>\n",
       "    </tr>\n",
       "  </thead>\n",
       "  <tbody>\n",
       "    <tr>\n",
       "      <th>0</th>\n",
       "      <td>0.857143</td>\n",
       "      <td>1211</td>\n",
       "      <td>24</td>\n",
       "      <td>63</td>\n",
       "      <td>6</td>\n",
       "      <td>6</td>\n",
       "      <td>0</td>\n",
       "    </tr>\n",
       "    <tr>\n",
       "      <th>1</th>\n",
       "      <td>0.250000</td>\n",
       "      <td>313</td>\n",
       "      <td>101</td>\n",
       "      <td>173</td>\n",
       "      <td>48</td>\n",
       "      <td>0</td>\n",
       "      <td>0</td>\n",
       "    </tr>\n",
       "    <tr>\n",
       "      <th>2</th>\n",
       "      <td>0.411765</td>\n",
       "      <td>247</td>\n",
       "      <td>51</td>\n",
       "      <td>382</td>\n",
       "      <td>50</td>\n",
       "      <td>4</td>\n",
       "      <td>0</td>\n",
       "    </tr>\n",
       "    <tr>\n",
       "      <th>3</th>\n",
       "      <td>0.611111</td>\n",
       "      <td>41</td>\n",
       "      <td>3</td>\n",
       "      <td>36</td>\n",
       "      <td>5</td>\n",
       "      <td>0</td>\n",
       "      <td>0</td>\n",
       "    </tr>\n",
       "    <tr>\n",
       "      <th>4</th>\n",
       "      <td>0.600000</td>\n",
       "      <td>12341</td>\n",
       "      <td>770</td>\n",
       "      <td>1417</td>\n",
       "      <td>0</td>\n",
       "      <td>8</td>\n",
       "      <td>1</td>\n",
       "    </tr>\n",
       "  </tbody>\n",
       "</table>\n",
       "</div>"
      ],
      "text/plain": [
       "    name_wt  statuses_count  followers_count  friends_count  favourites_count  \\\n",
       "0  0.857143            1211               24             63                 6   \n",
       "1  0.250000             313              101            173                48   \n",
       "2  0.411765             247               51            382                50   \n",
       "3  0.611111              41                3             36                 5   \n",
       "4  0.600000           12341              770           1417                 0   \n",
       "\n",
       "   listed_count  label  \n",
       "0             6      0  \n",
       "1             0      0  \n",
       "2             4      0  \n",
       "3             0      0  \n",
       "4             8      1  "
      ]
     },
     "execution_count": 15,
     "metadata": {},
     "output_type": "execute_result"
    }
   ],
   "source": [
    "dataset = pd.read_csv('data/twitter_dataset.csv', encoding = 'latin-1')   #load dataset from csv\n",
    "dataset.head()           #show first 5 rows"
   ]
  },
  {
   "cell_type": "code",
   "execution_count": 16,
   "metadata": {},
   "outputs": [
    {
     "name": "stderr",
     "output_type": "stream",
     "text": [
      "/home/abhishek/.local/lib/python3.6/site-packages/ipykernel_launcher.py:8: FutureWarning: Method .as_matrix will be removed in a future version. Use .values instead.\n",
      "  \n"
     ]
    }
   ],
   "source": [
    "#Combinig attributes into single list of tuples and using those features create a 2D matrix \n",
    "\n",
    "features=[]\n",
    "for attributes in dataset.columns:\n",
    "    if attributes != 'label':\n",
    "        features.append(attributes)\n",
    "\n",
    "data = dataset.as_matrix(columns = features)\n",
    "# data = dataset.values"
   ]
  },
  {
   "cell_type": "code",
   "execution_count": 17,
   "metadata": {},
   "outputs": [
    {
     "name": "stdout",
     "output_type": "stream",
     "text": [
      "Total instances :  6945 \n",
      "Number of features :  6\n"
     ]
    }
   ],
   "source": [
    "print(\"Total instances : \", data.shape[0], \"\\nNumber of features : \", data.shape[1])"
   ]
  },
  {
   "cell_type": "code",
   "execution_count": 18,
   "metadata": {},
   "outputs": [],
   "source": [
    "#convert label column into 1D arrray\n",
    "\n",
    "label = np.array(dataset['label'])\n",
    "# label"
   ]
  },
  {
   "cell_type": "markdown",
   "metadata": {},
   "source": [
    "## STEP 3: TESTING CLASSIFIER \n",
    "\n",
    "Using 80-20 split, 20% of the instances will be used for testing. Their labels will be predicted and then compared with the actual labels. "
   ]
  },
  {
   "cell_type": "code",
   "execution_count": 19,
   "metadata": {},
   "outputs": [],
   "source": [
    "X_train, X_test, y_train, y_test = train_test_split(data, label, test_size=0.2, random_state=0)"
   ]
  },
  {
   "cell_type": "code",
   "execution_count": 20,
   "metadata": {},
   "outputs": [
    {
     "name": "stdout",
     "output_type": "stream",
     "text": [
      "Number of testing instances:  1389\n"
     ]
    }
   ],
   "source": [
    "print(\"Number of testing instances: \", X_test.shape[0])"
   ]
  },
  {
   "cell_type": "code",
   "execution_count": 21,
   "metadata": {},
   "outputs": [
    {
     "data": {
      "text/plain": [
       "KNeighborsClassifier(algorithm='auto', leaf_size=30, metric='minkowski',\n",
       "           metric_params=None, n_jobs=1, n_neighbors=5, p=2,\n",
       "           weights='uniform')"
      ]
     },
     "execution_count": 21,
     "metadata": {},
     "output_type": "execute_result"
    }
   ],
   "source": [
    "neighbors = 5                    #tested optimal value of k is 5\n",
    "\n",
    "knn_model = KNeighborsClassifier(n_neighbors = neighbors)\n",
    "\n",
    "#X_train and y_train are the attributes and labels of insatnces used for prediction\n",
    "data = X_train\n",
    "label = y_train\n",
    "\n",
    "knn_model.fit(data, label)"
   ]
  },
  {
   "cell_type": "code",
   "execution_count": 22,
   "metadata": {},
   "outputs": [],
   "source": [
    "knn_model,y_predict = my_k_nearest_neighbors.k_nearest_neighbours(X_train, X_test, y_train, y_test)\n"
   ]
  },
  {
   "cell_type": "code",
   "execution_count": 23,
   "metadata": {},
   "outputs": [],
   "source": [
    "'''\n",
    "   Now, apply the model to the entire test set and predict the label for each test example\n",
    "\n",
    "'''       \n",
    "       \n",
    "y_predict = []                       #To store prediction of each test example\n",
    "\n",
    "for test_case in range(len(X_test)): \n",
    "    label = knn_model.predict([X_test[test_case]])\n",
    "    \n",
    "    #append to the predictions list\n",
    "    y_predict.append(np.asscalar(label))\n",
    "\n",
    "#predictions"
   ]
  },
  {
   "cell_type": "markdown",
   "metadata": {},
   "source": [
    "## STEP 4: EVALUATION OF CLASSIFICATION RESULTS\n",
    "\n",
    "The classifier will be evaluted using Accuracy, Recall, Precision and F-measure. For this first, a confusion matrix will be created. "
   ]
  },
  {
   "cell_type": "code",
   "execution_count": 24,
   "metadata": {},
   "outputs": [],
   "source": [
    "'''\n",
    "    True Negatives is C(0,0) \n",
    "    False Negatives is C(1,0)\n",
    "    False Positives is C(0,1)\n",
    "    True Positives is C(1,1) \n",
    "\n",
    "'''\n",
    "\n",
    "conf_matrix = confusion_matrix(y_test, y_predict)"
   ]
  },
  {
   "cell_type": "code",
   "execution_count": 25,
   "metadata": {},
   "outputs": [],
   "source": [
    "#true_negative\n",
    "TN = conf_matrix[0][0]\n",
    "#false_negative\n",
    "FN = conf_matrix[1][0]\n",
    "#false_positive\n",
    "FP = conf_matrix[0][1]\n",
    "#true_positive\n",
    "TP = conf_matrix[1][1]"
   ]
  },
  {
   "cell_type": "code",
   "execution_count": 26,
   "metadata": {},
   "outputs": [],
   "source": [
    "# Recall is the ratio of the total number of correctly classified positive examples divided by the total number of positive examples. \n",
    "# High Recall indicates the class is correctly recognized (small number of FN)\n",
    "\n",
    "recall = (TP)/(TP + FN)"
   ]
  },
  {
   "cell_type": "code",
   "execution_count": 27,
   "metadata": {},
   "outputs": [],
   "source": [
    "# Precision is the the total number of correctly classified positive examples divided by the total number of predicted positive examples. \n",
    "# High Precision indicates an example labeled as positive is indeed positive (small number of FP)\n",
    "\n",
    "precision = (TP)/(TP + FP)"
   ]
  },
  {
   "cell_type": "code",
   "execution_count": 28,
   "metadata": {},
   "outputs": [
    {
     "data": {
      "text/plain": [
       "0.9575233981281498"
      ]
     },
     "execution_count": 28,
     "metadata": {},
     "output_type": "execute_result"
    }
   ],
   "source": [
    "fmeasure = (2*recall*precision)/(recall+precision)\n",
    "accuracy = (TP + TN)/(TN + FN + FP + TP)\n",
    "\n",
    "accuracy_score(y_test, y_predict)     #using inbuilt function"
   ]
  },
  {
   "cell_type": "code",
   "execution_count": 29,
   "metadata": {},
   "outputs": [
    {
     "name": "stdout",
     "output_type": "stream",
     "text": [
      "------ CLASSIFICATION PERFORMANCE OF K-NEAREST-NEIGHBORS MODEL ------ \n",
      "\n",
      " Recall :  96.14285714285714 %\n",
      " Precision :  95.46099290780143 %\n",
      " Accuracy :  95.75233981281498 %\n",
      " F-measure :  95.80071174377224 %\n"
     ]
    }
   ],
   "source": [
    "print(\"------ CLASSIFICATION PERFORMANCE OF K-NEAREST-NEIGHBORS MODEL ------ \\n\"\\\n",
    "      \"\\n Recall : \", (recall*100) ,\"%\" \\\n",
    "      \"\\n Precision : \", (precision*100) ,\"%\" \\\n",
    "      \"\\n Accuracy : \", (accuracy*100) ,\"%\" \\\n",
    "      \"\\n F-measure : \", (fmeasure*100) ,\"%\" )\n",
    "\n"
   ]
  },
  {
   "cell_type": "code",
   "execution_count": null,
   "metadata": {},
   "outputs": [],
   "source": []
  },
  {
   "cell_type": "code",
   "execution_count": null,
   "metadata": {},
   "outputs": [],
   "source": []
  },
  {
   "cell_type": "code",
   "execution_count": 30,
   "metadata": {},
   "outputs": [
    {
     "data": {
      "text/plain": [
       "[[0, 0, 0, 0, 0],\n",
       " [0, 0, 0, 0, 0],\n",
       " [0, 0, 0, 0, 0],\n",
       " [0, 0, 0, 0, 0],\n",
       " [0, 0, 0, 0, 0],\n",
       " [0, 0, 0, 0, 0],\n",
       " [0, 0, 0, 0, 0],\n",
       " [0, 0, 0, 0, 0],\n",
       " [0, 0, 0, 0, 0],\n",
       " [0, 0, 0, 0, 0]]"
      ]
     },
     "execution_count": 30,
     "metadata": {},
     "output_type": "execute_result"
    }
   ],
   "source": [
    "accuracy_list = [[0]*5 for _ in range(max_iterations)]\n",
    "accuracy_list"
   ]
  },
  {
   "cell_type": "code",
   "execution_count": 31,
   "metadata": {},
   "outputs": [
    {
     "name": "stdout",
     "output_type": "stream",
     "text": [
      "neighbors\t recall\t precision\t fmeasure\t accuracy\t\n",
      "1 \t 0.9657142857142857 \t 0.9534555712270804 \t 0.9595457771469128 \t 0.958963282937365\n",
      "2 \t 0.9414285714285714 \t 0.9791976225854383 \t 0.9599417334304442 \t 0.9604031677465803\n",
      "3 \t 0.9585714285714285 \t 0.9585714285714285 \t 0.9585714285714285 \t 0.9582433405327574\n",
      "4 \t 0.9471428571428572 \t 0.9664723032069971 \t 0.9567099567099566 \t 0.9568034557235421\n",
      "5 \t 0.9614285714285714 \t 0.9546099290780142 \t 0.9580071174377224 \t 0.9575233981281498\n",
      "6 \t 0.9485714285714286 \t 0.9665211062590975 \t 0.9574621485219899 \t 0.9575233981281498\n",
      "7 \t 0.9571428571428572 \t 0.9571428571428572 \t 0.9571428571428572 \t 0.9568034557235421\n",
      "8 \t 0.9471428571428572 \t 0.9650655021834061 \t 0.9560201874549388 \t 0.9560835133189345\n",
      "9 \t 0.9528571428571428 \t 0.9597122302158273 \t 0.9562724014336916 \t 0.9560835133189345\n",
      "10 \t 0.9457142857142857 \t 0.9650145772594753 \t 0.9552669552669553 \t 0.9553635709143269\n"
     ]
    }
   ],
   "source": [
    "print(\"neighbors\\t\",\"recall\\t\",\"precision\\t\",\"fmeasure\\t\",\"accuracy\\t\")\n",
    "max_iterations = 10\n",
    "accuracy_list = [[0]*5 for _ in range(max_iterations)]\n",
    "\n",
    "for neighbors in range (1,max_iterations+1):\n",
    "    # Generate the model\n",
    "    \n",
    "    knn_model = KNeighborsClassifier(n_neighbors = neighbors)\n",
    "\n",
    "    # Train the model using the training sets\n",
    "    data = X_train\n",
    "    label = y_train\n",
    "\n",
    "    knn_model.fit(data, label)\n",
    "    y_predict = []                       #to store prediction of each test example\n",
    "\n",
    "    for test_case in range(len(X_test)): \n",
    "        label = knn_model.predict([X_test[test_case]])\n",
    "\n",
    "        #append to the predictions list\n",
    "        y_predict.append(np.asscalar(label))\n",
    "\n",
    "    #predictions\n",
    "    conf_matrix = confusion_matrix(y_test, y_predict)\n",
    "    #true_negative\n",
    "    TN = conf_matrix[0][0]\n",
    "    #false_negative\n",
    "    FN = conf_matrix[1][0]\n",
    "    #false_positive\n",
    "    FP = conf_matrix[0][1]\n",
    "    #true_positive\n",
    "    TP = conf_matrix[1][1]\n",
    "\n",
    "    recall = (TP)/(TP + FN)\n",
    "\n",
    "    precision = (TP)/(TP + FP)\n",
    "\n",
    "    fmeasure = (2*recall*precision)/(recall+precision)\n",
    "\n",
    "    accuracy = (TP + TN)/(TN + FN + FP + TP)\n",
    "    print(neighbors,\"\\t\",recall,\"\\t\",precision,\"\\t\",fmeasure,\"\\t\",accuracy)\n",
    "    accuracy_list[neighbors-1][0] = neighbors\n",
    "    accuracy_list[neighbors-1][1] = recall*100\n",
    "    accuracy_list[neighbors-1][2] = precision*100\n",
    "    accuracy_list[neighbors-1][3] = fmeasure*100\n",
    "    accuracy_list[neighbors-1][4] = accuracy*100\n"
   ]
  },
  {
   "cell_type": "code",
   "execution_count": 32,
   "metadata": {},
   "outputs": [
    {
     "name": "stdout",
     "output_type": "stream",
     "text": [
      "neighbours\t recall\t \tprecision\t \tfmeasure\t \taccuracy\t\n",
      "1   96.57142857142857   95.34555712270803   95.95457771469128   95.95457771469128\n",
      "2   94.14285714285714   97.91976225854383   95.99417334304442   95.99417334304442\n",
      "3   95.85714285714285   95.85714285714285   95.85714285714285   95.85714285714285\n",
      "4   94.71428571428572   96.6472303206997   95.67099567099567   95.67099567099567\n",
      "5   96.14285714285714   95.46099290780143   95.80071174377224   95.80071174377224\n",
      "6   94.85714285714286   96.65211062590974   95.74621485219899   95.74621485219899\n",
      "7   95.71428571428572   95.71428571428572   95.71428571428572   95.71428571428572\n",
      "8   94.71428571428572   96.50655021834062   95.60201874549388   95.60201874549388\n",
      "9   95.28571428571428   95.97122302158273   95.62724014336916   95.62724014336916\n",
      "10   94.57142857142857   96.50145772594753   95.52669552669553   95.52669552669553\n"
     ]
    }
   ],
   "source": [
    "print(\"neighbours\\t\",\"recall\\t\",\"\\tprecision\\t\",\"\\tfmeasure\\t\",\"\\taccuracy\\t\")\n",
    "for i in range(len(accuracy_list)):\n",
    "    print(accuracy_list[i][0],\" \",accuracy_list[i][1],\" \",accuracy_list[i][2],\" \",accuracy_list[i][3],\" \",accuracy_list[i][3])"
   ]
  },
  {
   "cell_type": "code",
   "execution_count": null,
   "metadata": {},
   "outputs": [],
   "source": []
  },
  {
   "cell_type": "code",
   "execution_count": 33,
   "metadata": {},
   "outputs": [
    {
     "ename": "NameError",
     "evalue": "name 'tabulate' is not defined",
     "output_type": "error",
     "traceback": [
      "\u001b[0;31m---------------------------------------------------------------------------\u001b[0m",
      "\u001b[0;31mNameError\u001b[0m                                 Traceback (most recent call last)",
      "\u001b[0;32m<ipython-input-33-011d2cb137e3>\u001b[0m in \u001b[0;36m<module>\u001b[0;34m\u001b[0m\n\u001b[0;32m----> 1\u001b[0;31m \u001b[0mprint\u001b[0m\u001b[0;34m(\u001b[0m\u001b[0mtabulate\u001b[0m\u001b[0;34m(\u001b[0m\u001b[0maccuracy_list\u001b[0m\u001b[0;34m)\u001b[0m\u001b[0;34m)\u001b[0m\u001b[0;34m\u001b[0m\u001b[0;34m\u001b[0m\u001b[0m\n\u001b[0m",
      "\u001b[0;31mNameError\u001b[0m: name 'tabulate' is not defined"
     ]
    }
   ],
   "source": [
    "print(tabulate(accuracy_list))"
   ]
  },
  {
   "cell_type": "code",
   "execution_count": null,
   "metadata": {},
   "outputs": [],
   "source": []
  },
  {
   "cell_type": "code",
   "execution_count": null,
   "metadata": {},
   "outputs": [],
   "source": []
  }
 ],
 "metadata": {
  "kernelspec": {
   "display_name": "Python 3",
   "language": "python",
   "name": "python3"
  },
  "language_info": {
   "codemirror_mode": {
    "name": "ipython",
    "version": 3
   },
   "file_extension": ".py",
   "mimetype": "text/x-python",
   "name": "python",
   "nbconvert_exporter": "python",
   "pygments_lexer": "ipython3",
   "version": "3.6.9"
  }
 },
 "nbformat": 4,
 "nbformat_minor": 2
}
