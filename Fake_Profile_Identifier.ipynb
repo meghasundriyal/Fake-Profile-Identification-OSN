{
 "cells": [
  {
   "cell_type": "code",
   "execution_count": 7,
   "metadata": {},
   "outputs": [],
   "source": [
    "#Import the necessary methods from tweepy library\n",
    "from tweepy.streaming import StreamListener\n",
    "from tweepy import OAuthHandler\n",
    "from tweepy import Stream\n",
    "import tweepy\n",
    "import numpy as np\n",
    "import json"
   ]
  },
  {
   "cell_type": "code",
   "execution_count": 8,
   "metadata": {},
   "outputs": [],
   "source": [
    "credentials_file=open(\"twitter_credentials.json\")\n",
    "credentials=json.load(credentials_file)"
   ]
  },
  {
   "cell_type": "code",
   "execution_count": 12,
   "metadata": {},
   "outputs": [
    {
     "data": {
      "text/plain": [
       "{'CONSUMER_KEY': 'WGIxZngZosqttf0ZvtP3Pk05n',\n",
       " 'CONSUMER_SECRET': 'joD4U7jzJ0rjJrHA1QUW78wOXC007LwqcbAPxEVOs3N4wpaYBu',\n",
       " 'ACCESS_TOKEN': '200806633-2lHSXdGZDcfrYCkjTgfsD2Pal7O15WyTlqjVidib',\n",
       " 'ACCESS_SECRET': '5SEAwVu5j7o06ZWH0RIxzJvyZyLTkJp1jrxfHvBrpN2rn'}"
      ]
     },
     "execution_count": 12,
     "metadata": {},
     "output_type": "execute_result"
    }
   ],
   "source": [
    "credentials"
   ]
  },
  {
   "cell_type": "code",
   "execution_count": 13,
   "metadata": {},
   "outputs": [],
   "source": [
    "#Variables that contains the user credentials to access Twitter API \n",
    "access_token = credentials['ACCESS_TOKEN']\n",
    "access_token_secret = credentials['ACCESS_SECRET']\n",
    "consumer_key = credentials['CONSUMER_KEY']\n",
    "consumer_secret = credentials['CONSUMER_SECRET']"
   ]
  },
  {
   "cell_type": "code",
   "execution_count": 14,
   "metadata": {},
   "outputs": [],
   "source": [
    "#This is a basic listener that just prints received tweets to stdout.\n",
    "class StdOutListener(StreamListener):\n",
    "\n",
    "    def on_data(self, data):\n",
    "        print(data)\n",
    "        return True\n",
    "\n",
    "    def on_error(self, status):\n",
    "        print(status)\n"
   ]
  },
  {
   "cell_type": "code",
   "execution_count": 15,
   "metadata": {},
   "outputs": [],
   "source": [
    "auth = tweepy.OAuthHandler(consumer_key, consumer_secret)  \n",
    "auth.set_access_token(access_token, access_token_secret)  \n",
    "api = tweepy.API(auth)"
   ]
  },
  {
   "cell_type": "code",
   "execution_count": 18,
   "metadata": {},
   "outputs": [
    {
     "name": "stdout",
     "output_type": "stream",
     "text": [
      "enter screen name to test: imVkohli\n"
     ]
    }
   ],
   "source": [
    "screen_name=input(\"enter screen name to test: \")"
   ]
  },
  {
   "cell_type": "code",
   "execution_count": 19,
   "metadata": {},
   "outputs": [
    {
     "name": "stdout",
     "output_type": "stream",
     "text": [
      "71201743\n"
     ]
    }
   ],
   "source": [
    "#screen_name = 'ArvindKejriwal'\n",
    "#screen_name = 'Bharat_Sardana_'\n",
    "#screen_name = 'tarunkjuyal'\n",
    "#screen_name = 'yi_twitts'\n",
    "#screen_name = 'tmj_clt_util'    #social bot\n",
    "# screen_name = 'imVkohli'\n",
    "\n",
    "user = api.get_user(screen_name)\n",
    "\n",
    "print(user.id)"
   ]
  },
  {
   "cell_type": "code",
   "execution_count": 20,
   "metadata": {},
   "outputs": [
    {
     "name": "stdout",
     "output_type": "stream",
     "text": [
      "Virat Kohli\n",
      "imVkohli\n",
      "2031\n",
      "33315889\n",
      "58\n",
      "192\n",
      "7979\n"
     ]
    }
   ],
   "source": [
    "# Twitter account details\n",
    "print(user.name)\n",
    "print(user.screen_name)\n",
    "print(user.statuses_count)\n",
    "print(user.followers_count)\n",
    "print(user.friends_count)\n",
    "print(user.favourites_count)\n",
    "print(user.listed_count)"
   ]
  },
  {
   "cell_type": "code",
   "execution_count": 21,
   "metadata": {},
   "outputs": [
    {
     "data": {
      "text/plain": [
       "('virat kohli', 'imvkohli')"
      ]
     },
     "execution_count": 21,
     "metadata": {},
     "output_type": "execute_result"
    }
   ],
   "source": [
    "#Weight of name and screen name\n",
    "name = user.name.lower()\n",
    "screen_name = user.screen_name.lower()\n",
    "\n",
    "name, screen_name"
   ]
  },
  {
   "cell_type": "code",
   "execution_count": 22,
   "metadata": {},
   "outputs": [],
   "source": [
    "def maxSubsequence(screen_name, name): \n",
    "    # find the length of the strings \n",
    "    m = len(screen_name) \n",
    "    n = len(name) \n",
    "  \n",
    "    # declaring the array for storing the dp values \n",
    "    L = [[None]*(n + 1) for i in range(m + 1)] \n",
    "  \n",
    "    \"\"\"Following steps build L[m + 1][n + 1] in bottom up fashion \n",
    "    Note: L[i][j] contains length of LCS of X[0..i-1] \n",
    "    and Y[0..j-1]\"\"\"\n",
    "    for i in range(m + 1): \n",
    "        for j in range(n + 1): \n",
    "            if i == 0 or j == 0 : \n",
    "                L[i][j] = 0\n",
    "            elif screen_name[i-1] == name[j-1]: \n",
    "                L[i][j] = L[i-1][j-1]+1\n",
    "            else: \n",
    "                L[i][j] = max(L[i-1][j], L[i][j-1]) \n",
    "  \n",
    "    # L[m][n] contains the length of LCS of X[0..n-1] & Y[0..m-1] \n",
    "    return L[m][n] "
   ]
  },
  {
   "cell_type": "code",
   "execution_count": 23,
   "metadata": {},
   "outputs": [
    {
     "data": {
      "text/plain": [
       "0.5454545454545454"
      ]
     },
     "execution_count": 23,
     "metadata": {},
     "output_type": "execute_result"
    }
   ],
   "source": [
    "subseq = maxSubsequence(screen_name, name)\n",
    "name_wt = subseq/len(name)\n",
    "name_wt"
   ]
  },
  {
   "cell_type": "code",
   "execution_count": 24,
   "metadata": {},
   "outputs": [],
   "source": [
    "#['name','screen_name','statuses_count','followers_count','friends_count','favourites_count','listed_count']"
   ]
  },
  {
   "cell_type": "code",
   "execution_count": 25,
   "metadata": {},
   "outputs": [
    {
     "data": {
      "text/plain": [
       "array([[5.45454545e-01, 2.03100000e+03, 3.33158890e+07, 5.80000000e+01,\n",
       "        1.92000000e+02, 7.97900000e+03]])"
      ]
     },
     "execution_count": 25,
     "metadata": {},
     "output_type": "execute_result"
    }
   ],
   "source": [
    "X_test = np.array([name_wt,user.statuses_count,user.followers_count,user.friends_count,user.favourites_count,user.listed_count]).reshape(1, -1)\n",
    "X_test"
   ]
  },
  {
   "cell_type": "code",
   "execution_count": 26,
   "metadata": {},
   "outputs": [
    {
     "data": {
      "text/plain": [
       "(1, 6)"
      ]
     },
     "execution_count": 26,
     "metadata": {},
     "output_type": "execute_result"
    }
   ],
   "source": [
    "X_test.shape"
   ]
  },
  {
   "cell_type": "code",
   "execution_count": 27,
   "metadata": {},
   "outputs": [],
   "source": [
    "'''\n",
    "    label :  0  = genuine users\n",
    "             1  = fake users\n",
    "''' \n",
    "\n",
    "y_test = 0"
   ]
  },
  {
   "cell_type": "code",
   "execution_count": null,
   "metadata": {},
   "outputs": [],
   "source": []
  },
  {
   "cell_type": "code",
   "execution_count": 28,
   "metadata": {},
   "outputs": [],
   "source": [
    "import pandas as pd\n",
    "import numpy as np\n",
    "import k_nearest_neighbors as my_k_nearest_neighbors\n",
    "import neural_network as my_neural_network\n",
    "import decision_tree as my_decision_tree"
   ]
  },
  {
   "cell_type": "code",
   "execution_count": 29,
   "metadata": {},
   "outputs": [],
   "source": [
    "dataset_location='data/twitter_dataset.csv'\n",
    "dataset = pd.read_csv(dataset_location, encoding = 'latin-1')"
   ]
  },
  {
   "cell_type": "code",
   "execution_count": 30,
   "metadata": {},
   "outputs": [],
   "source": [
    "features=[]\n",
    "for attributes in dataset.columns:\n",
    "    if attributes != 'label':\n",
    "        features.append(attributes)"
   ]
  },
  {
   "cell_type": "code",
   "execution_count": 31,
   "metadata": {},
   "outputs": [
    {
     "name": "stderr",
     "output_type": "stream",
     "text": [
      "/home/abhishek/.local/lib/python3.6/site-packages/ipykernel_launcher.py:1: FutureWarning: Method .as_matrix will be removed in a future version. Use .values instead.\n",
      "  \"\"\"Entry point for launching an IPython kernel.\n"
     ]
    },
    {
     "data": {
      "text/plain": [
       "((6945, 6), (6945,))"
      ]
     },
     "execution_count": 31,
     "metadata": {},
     "output_type": "execute_result"
    }
   ],
   "source": [
    "X_train = dataset.as_matrix(columns = features) # Features\n",
    "y_train = dataset.label\n",
    "\n",
    "X_train.shape, y_train.shape"
   ]
  },
  {
   "cell_type": "code",
   "execution_count": 32,
   "metadata": {},
   "outputs": [
    {
     "name": "stdout",
     "output_type": "stream",
     "text": [
      "trained knn\n",
      "trained decision tree\n"
     ]
    },
    {
     "name": "stderr",
     "output_type": "stream",
     "text": [
      "Using TensorFlow backend.\n"
     ]
    },
    {
     "name": "stdout",
     "output_type": "stream",
     "text": [
      "Epoch 1/150\n",
      "6945/6945 [==============================] - 1s 175us/step - loss: 12.9278 - accuracy: 0.5695\n",
      "Epoch 2/150\n",
      "6945/6945 [==============================] - 0s 33us/step - loss: 0.6504 - accuracy: 0.8747\n",
      "Epoch 3/150\n",
      "6945/6945 [==============================] - 0s 22us/step - loss: 0.7216 - accuracy: 0.8713\n",
      "Epoch 4/150\n",
      "6945/6945 [==============================] - 0s 21us/step - loss: 0.5014 - accuracy: 0.8801\n",
      "Epoch 5/150\n",
      "6945/6945 [==============================] - 0s 24us/step - loss: 0.4613 - accuracy: 0.8792\n",
      "Epoch 6/150\n",
      "6945/6945 [==============================] - 0s 40us/step - loss: 0.4256 - accuracy: 0.8916\n",
      "Epoch 7/150\n",
      "6945/6945 [==============================] - 0s 21us/step - loss: 0.4105 - accuracy: 0.8754\n",
      "Epoch 8/150\n",
      "6945/6945 [==============================] - 0s 18us/step - loss: 0.4037 - accuracy: 0.8963\n",
      "Epoch 9/150\n",
      "6945/6945 [==============================] - 0s 19us/step - loss: 0.3749 - accuracy: 0.8917\n",
      "Epoch 10/150\n",
      "6945/6945 [==============================] - 0s 23us/step - loss: 0.5896 - accuracy: 0.8742\n",
      "Epoch 11/150\n",
      "6945/6945 [==============================] - 0s 18us/step - loss: 0.5244 - accuracy: 0.8723\n",
      "Epoch 12/150\n",
      "6945/6945 [==============================] - 0s 22us/step - loss: 0.4214 - accuracy: 0.8648\n",
      "Epoch 13/150\n",
      "6945/6945 [==============================] - 0s 19us/step - loss: 0.3683 - accuracy: 0.8683\n",
      "Epoch 14/150\n",
      "6945/6945 [==============================] - 0s 19us/step - loss: 0.3625 - accuracy: 0.8917\n",
      "Epoch 15/150\n",
      "6945/6945 [==============================] - 0s 19us/step - loss: 0.3446 - accuracy: 0.8930\n",
      "Epoch 16/150\n",
      "6945/6945 [==============================] - 0s 20us/step - loss: 0.3365 - accuracy: 0.8855\n",
      "Epoch 17/150\n",
      "6945/6945 [==============================] - 0s 21us/step - loss: 0.3136 - accuracy: 0.8881\n",
      "Epoch 18/150\n",
      "6945/6945 [==============================] - 0s 18us/step - loss: 0.2969 - accuracy: 0.8989\n",
      "Epoch 19/150\n",
      "6945/6945 [==============================] - 0s 21us/step - loss: 0.2887 - accuracy: 0.8978\n",
      "Epoch 20/150\n",
      "6945/6945 [==============================] - 0s 19us/step - loss: 0.2829 - accuracy: 0.9153\n",
      "Epoch 21/150\n",
      "6945/6945 [==============================] - 0s 21us/step - loss: 0.2979 - accuracy: 0.9090\n",
      "Epoch 22/150\n",
      "6945/6945 [==============================] - 0s 19us/step - loss: 0.2779 - accuracy: 0.9201\n",
      "Epoch 23/150\n",
      "6945/6945 [==============================] - 0s 22us/step - loss: 0.3050 - accuracy: 0.9112\n",
      "Epoch 24/150\n",
      "6945/6945 [==============================] - 0s 23us/step - loss: 0.3408 - accuracy: 0.8956\n",
      "Epoch 25/150\n",
      "6945/6945 [==============================] - 0s 19us/step - loss: 0.3482 - accuracy: 0.9025\n",
      "Epoch 26/150\n",
      "6945/6945 [==============================] - 0s 22us/step - loss: 0.5979 - accuracy: 0.8956\n",
      "Epoch 27/150\n",
      "6945/6945 [==============================] - 0s 19us/step - loss: 0.5700 - accuracy: 0.8949\n",
      "Epoch 28/150\n",
      "6945/6945 [==============================] - 0s 22us/step - loss: 0.3639 - accuracy: 0.8773\n",
      "Epoch 29/150\n",
      "6945/6945 [==============================] - 0s 19us/step - loss: 0.3106 - accuracy: 0.8884\n",
      "Epoch 30/150\n",
      "6945/6945 [==============================] - 0s 21us/step - loss: 0.2892 - accuracy: 0.8946\n",
      "Epoch 31/150\n",
      "6945/6945 [==============================] - 0s 24us/step - loss: 0.2772 - accuracy: 0.9017\n",
      "Epoch 32/150\n",
      "6945/6945 [==============================] - 0s 21us/step - loss: 0.2758 - accuracy: 0.9119\n",
      "Epoch 33/150\n",
      "6945/6945 [==============================] - 0s 18us/step - loss: 0.2588 - accuracy: 0.9110\n",
      "Epoch 34/150\n",
      "6945/6945 [==============================] - 0s 21us/step - loss: 0.2533 - accuracy: 0.9176\n",
      "Epoch 35/150\n",
      "6945/6945 [==============================] - 0s 19us/step - loss: 0.2326 - accuracy: 0.9276\n",
      "Epoch 36/150\n",
      "6945/6945 [==============================] - 0s 18us/step - loss: 0.2222 - accuracy: 0.9277\n",
      "Epoch 37/150\n",
      "6945/6945 [==============================] - 0s 23us/step - loss: 0.2259 - accuracy: 0.9299\n",
      "Epoch 38/150\n",
      "6945/6945 [==============================] - 0s 23us/step - loss: 0.2282 - accuracy: 0.9287\n",
      "Epoch 39/150\n",
      "6945/6945 [==============================] - 0s 21us/step - loss: 0.2258 - accuracy: 0.9329\n",
      "Epoch 40/150\n",
      "6945/6945 [==============================] - 0s 19us/step - loss: 0.2561 - accuracy: 0.9246\n",
      "Epoch 41/150\n",
      "6945/6945 [==============================] - 0s 18us/step - loss: 0.2374 - accuracy: 0.9389\n",
      "Epoch 42/150\n",
      "6945/6945 [==============================] - 0s 20us/step - loss: 0.1986 - accuracy: 0.9418\n",
      "Epoch 43/150\n",
      "6945/6945 [==============================] - 0s 20us/step - loss: 0.2298 - accuracy: 0.9385\n",
      "Epoch 44/150\n",
      "6945/6945 [==============================] - 0s 18us/step - loss: 0.2083 - accuracy: 0.9358\n",
      "Epoch 45/150\n",
      "6945/6945 [==============================] - 0s 25us/step - loss: 0.2201 - accuracy: 0.9358\n",
      "Epoch 46/150\n",
      "6945/6945 [==============================] - 0s 22us/step - loss: 0.2156 - accuracy: 0.9388\n",
      "Epoch 47/150\n",
      "6945/6945 [==============================] - 0s 19us/step - loss: 0.1992 - accuracy: 0.9431\n",
      "Epoch 48/150\n",
      "6945/6945 [==============================] - 0s 22us/step - loss: 0.2050 - accuracy: 0.9408\n",
      "Epoch 49/150\n",
      "6945/6945 [==============================] - 0s 21us/step - loss: 0.1958 - accuracy: 0.9408\n",
      "Epoch 50/150\n",
      "6945/6945 [==============================] - 0s 21us/step - loss: 0.1849 - accuracy: 0.9420\n",
      "Epoch 51/150\n",
      "6945/6945 [==============================] - 0s 21us/step - loss: 0.3637 - accuracy: 0.9320\n",
      "Epoch 52/150\n",
      "6945/6945 [==============================] - 0s 19us/step - loss: 1.6090 - accuracy: 0.9028\n",
      "Epoch 53/150\n",
      "6945/6945 [==============================] - 0s 19us/step - loss: 3.5125 - accuracy: 0.8969\n",
      "Epoch 54/150\n",
      "6945/6945 [==============================] - 0s 22us/step - loss: 2.0400 - accuracy: 0.9191\n",
      "Epoch 55/150\n",
      "6945/6945 [==============================] - 0s 20us/step - loss: 0.4721 - accuracy: 0.9142\n",
      "Epoch 56/150\n",
      "6945/6945 [==============================] - 0s 18us/step - loss: 0.3690 - accuracy: 0.9143\n",
      "Epoch 57/150\n",
      "6945/6945 [==============================] - 0s 25us/step - loss: 0.3517 - accuracy: 0.9194\n",
      "Epoch 58/150\n",
      "6945/6945 [==============================] - 0s 22us/step - loss: 0.3122 - accuracy: 0.9220\n",
      "Epoch 59/150\n",
      "6945/6945 [==============================] - 0s 22us/step - loss: 0.2731 - accuracy: 0.9271\n",
      "Epoch 60/150\n",
      "6945/6945 [==============================] - 0s 18us/step - loss: 0.2808 - accuracy: 0.9250\n",
      "Epoch 61/150\n",
      "6945/6945 [==============================] - 0s 22us/step - loss: 0.2830 - accuracy: 0.9221\n",
      "Epoch 62/150\n",
      "6945/6945 [==============================] - 0s 17us/step - loss: 0.2510 - accuracy: 0.9287\n",
      "Epoch 63/150\n",
      "6945/6945 [==============================] - 0s 19us/step - loss: 0.2344 - accuracy: 0.9289\n",
      "Epoch 64/150\n",
      "6945/6945 [==============================] - 0s 21us/step - loss: 0.2224 - accuracy: 0.9300\n",
      "Epoch 65/150\n",
      "6945/6945 [==============================] - 0s 21us/step - loss: 0.2557 - accuracy: 0.9277\n",
      "Epoch 66/150\n",
      "6945/6945 [==============================] - 0s 20us/step - loss: 0.2115 - accuracy: 0.9335\n",
      "Epoch 67/150\n",
      "6945/6945 [==============================] - 0s 18us/step - loss: 0.2221 - accuracy: 0.9336\n",
      "Epoch 68/150\n",
      "6945/6945 [==============================] - 0s 18us/step - loss: 0.1951 - accuracy: 0.9371\n",
      "Epoch 69/150\n",
      "6945/6945 [==============================] - 0s 22us/step - loss: 0.2266 - accuracy: 0.9356\n",
      "Epoch 70/150\n",
      "6945/6945 [==============================] - 0s 20us/step - loss: 0.2102 - accuracy: 0.9355\n",
      "Epoch 71/150\n",
      "6945/6945 [==============================] - 0s 18us/step - loss: 0.2154 - accuracy: 0.9352\n",
      "Epoch 72/150\n",
      "6945/6945 [==============================] - 0s 24us/step - loss: 0.1944 - accuracy: 0.9361\n",
      "Epoch 73/150\n",
      "6945/6945 [==============================] - 0s 20us/step - loss: 0.1905 - accuracy: 0.9401\n",
      "Epoch 74/150\n",
      "6945/6945 [==============================] - 0s 22us/step - loss: 0.1958 - accuracy: 0.9379\n",
      "Epoch 75/150\n",
      "6945/6945 [==============================] - 0s 20us/step - loss: 0.1946 - accuracy: 0.9328\n",
      "Epoch 76/150\n",
      "6945/6945 [==============================] - 0s 21us/step - loss: 0.1878 - accuracy: 0.9345\n",
      "Epoch 77/150\n",
      "6945/6945 [==============================] - 0s 18us/step - loss: 0.1799 - accuracy: 0.9395\n",
      "Epoch 78/150\n",
      "6945/6945 [==============================] - 0s 23us/step - loss: 0.1875 - accuracy: 0.9389\n",
      "Epoch 79/150\n"
     ]
    },
    {
     "name": "stdout",
     "output_type": "stream",
     "text": [
      "6945/6945 [==============================] - 0s 21us/step - loss: 0.1786 - accuracy: 0.9408\n",
      "Epoch 80/150\n",
      "6945/6945 [==============================] - 0s 17us/step - loss: 0.2099 - accuracy: 0.9364\n",
      "Epoch 81/150\n",
      "6945/6945 [==============================] - 0s 21us/step - loss: 0.2245 - accuracy: 0.9371\n",
      "Epoch 82/150\n",
      "6945/6945 [==============================] - 0s 19us/step - loss: 0.1941 - accuracy: 0.9395\n",
      "Epoch 83/150\n",
      "6945/6945 [==============================] - 0s 19us/step - loss: 0.1801 - accuracy: 0.9405\n",
      "Epoch 84/150\n",
      "6945/6945 [==============================] - 0s 20us/step - loss: 0.1894 - accuracy: 0.9408\n",
      "Epoch 85/150\n",
      "6945/6945 [==============================] - 0s 17us/step - loss: 0.1873 - accuracy: 0.9413\n",
      "Epoch 86/150\n",
      "6945/6945 [==============================] - 0s 22us/step - loss: 0.1831 - accuracy: 0.9384\n",
      "Epoch 87/150\n",
      "6945/6945 [==============================] - 0s 21us/step - loss: 0.1924 - accuracy: 0.9374\n",
      "Epoch 88/150\n",
      "6945/6945 [==============================] - 0s 20us/step - loss: 0.1734 - accuracy: 0.9427\n",
      "Epoch 89/150\n",
      "6945/6945 [==============================] - 0s 20us/step - loss: 0.1688 - accuracy: 0.9408\n",
      "Epoch 90/150\n",
      "6945/6945 [==============================] - 0s 18us/step - loss: 0.1713 - accuracy: 0.9402\n",
      "Epoch 91/150\n",
      "6945/6945 [==============================] - 0s 19us/step - loss: 0.1829 - accuracy: 0.9395\n",
      "Epoch 92/150\n",
      "6945/6945 [==============================] - 0s 20us/step - loss: 0.1771 - accuracy: 0.9414\n",
      "Epoch 93/150\n",
      "6945/6945 [==============================] - 0s 18us/step - loss: 0.1846 - accuracy: 0.9368\n",
      "Epoch 94/150\n",
      "6945/6945 [==============================] - 0s 23us/step - loss: 0.1983 - accuracy: 0.9310\n",
      "Epoch 95/150\n",
      "6945/6945 [==============================] - 0s 20us/step - loss: 0.2131 - accuracy: 0.9323\n",
      "Epoch 96/150\n",
      "6945/6945 [==============================] - 0s 17us/step - loss: 0.1729 - accuracy: 0.9408\n",
      "Epoch 97/150\n",
      "6945/6945 [==============================] - 0s 18us/step - loss: 0.1670 - accuracy: 0.9418\n",
      "Epoch 98/150\n",
      "6945/6945 [==============================] - 0s 20us/step - loss: 0.1793 - accuracy: 0.9420\n",
      "Epoch 99/150\n",
      "6945/6945 [==============================] - 0s 18us/step - loss: 0.2209 - accuracy: 0.9375\n",
      "Epoch 100/150\n",
      "6945/6945 [==============================] - 0s 19us/step - loss: 0.9375 - accuracy: 0.9116\n",
      "Epoch 101/150\n",
      "6945/6945 [==============================] - 0s 20us/step - loss: 3.2837 - accuracy: 0.9143\n",
      "Epoch 102/150\n",
      "6945/6945 [==============================] - 0s 19us/step - loss: 0.3733 - accuracy: 0.8955\n",
      "Epoch 103/150\n",
      "6945/6945 [==============================] - 0s 21us/step - loss: 0.2803 - accuracy: 0.9066\n",
      "Epoch 104/150\n",
      "6945/6945 [==============================] - 0s 20us/step - loss: 0.2720 - accuracy: 0.9103\n",
      "Epoch 105/150\n",
      "6945/6945 [==============================] - 0s 19us/step - loss: 0.2506 - accuracy: 0.9117\n",
      "Epoch 106/150\n",
      "6945/6945 [==============================] - 0s 17us/step - loss: 0.2429 - accuracy: 0.9050\n",
      "Epoch 107/150\n",
      "6945/6945 [==============================] - 0s 21us/step - loss: 0.2520 - accuracy: 0.8835\n",
      "Epoch 108/150\n",
      "6945/6945 [==============================] - 0s 19us/step - loss: 0.2314 - accuracy: 0.9194\n",
      "Epoch 109/150\n",
      "6945/6945 [==============================] - 0s 20us/step - loss: 0.2377 - accuracy: 0.8950\n",
      "Epoch 110/150\n",
      "6945/6945 [==============================] - 0s 17us/step - loss: 0.2295 - accuracy: 0.8874\n",
      "Epoch 111/150\n",
      "6945/6945 [==============================] - 0s 19us/step - loss: 0.2124 - accuracy: 0.9074\n",
      "Epoch 112/150\n",
      "6945/6945 [==============================] - 0s 18us/step - loss: 0.2183 - accuracy: 0.8916\n",
      "Epoch 113/150\n",
      "6945/6945 [==============================] - 0s 21us/step - loss: 0.2057 - accuracy: 0.9087\n",
      "Epoch 114/150\n",
      "6945/6945 [==============================] - 0s 17us/step - loss: 0.2524 - accuracy: 0.9143\n",
      "Epoch 115/150\n",
      "6945/6945 [==============================] - 0s 19us/step - loss: 0.2136 - accuracy: 0.9198\n",
      "Epoch 116/150\n",
      "6945/6945 [==============================] - 0s 20us/step - loss: 0.2108 - accuracy: 0.9181\n",
      "Epoch 117/150\n",
      "6945/6945 [==============================] - 0s 21us/step - loss: 0.2118 - accuracy: 0.9235\n",
      "Epoch 118/150\n",
      "6945/6945 [==============================] - 0s 17us/step - loss: 0.2030 - accuracy: 0.9246\n",
      "Epoch 119/150\n",
      "6945/6945 [==============================] - 0s 19us/step - loss: 0.2137 - accuracy: 0.9224\n",
      "Epoch 120/150\n",
      "6945/6945 [==============================] - 0s 20us/step - loss: 0.1934 - accuracy: 0.9306\n",
      "Epoch 121/150\n",
      "6945/6945 [==============================] - 0s 20us/step - loss: 0.1893 - accuracy: 0.9313\n",
      "Epoch 122/150\n",
      "6945/6945 [==============================] - 0s 17us/step - loss: 0.1828 - accuracy: 0.9326\n",
      "Epoch 123/150\n",
      "6945/6945 [==============================] - 0s 21us/step - loss: 0.2019 - accuracy: 0.9313\n",
      "Epoch 124/150\n",
      "6945/6945 [==============================] - 0s 17us/step - loss: 0.1979 - accuracy: 0.9145\n",
      "Epoch 125/150\n",
      "6945/6945 [==============================] - 0s 19us/step - loss: 0.1802 - accuracy: 0.9198\n",
      "Epoch 126/150\n",
      "6945/6945 [==============================] - 0s 18us/step - loss: 0.1782 - accuracy: 0.9283\n",
      "Epoch 127/150\n",
      "6945/6945 [==============================] - 0s 21us/step - loss: 0.2633 - accuracy: 0.9270\n",
      "Epoch 128/150\n",
      "6945/6945 [==============================] - 0s 19us/step - loss: 0.2129 - accuracy: 0.9241\n",
      "Epoch 129/150\n",
      "6945/6945 [==============================] - 0s 18us/step - loss: 0.1903 - accuracy: 0.9319\n",
      "Epoch 130/150\n",
      "6945/6945 [==============================] - 0s 20us/step - loss: 0.1987 - accuracy: 0.9076\n",
      "Epoch 131/150\n",
      "6945/6945 [==============================] - 0s 18us/step - loss: 0.1769 - accuracy: 0.9178\n",
      "Epoch 132/150\n",
      "6945/6945 [==============================] - 0s 18us/step - loss: 0.1801 - accuracy: 0.9355\n",
      "Epoch 133/150\n",
      "6945/6945 [==============================] - 0s 22us/step - loss: 0.1644 - accuracy: 0.9384\n",
      "Epoch 134/150\n",
      "6945/6945 [==============================] - 0s 20us/step - loss: 0.1809 - accuracy: 0.9338\n",
      "Epoch 135/150\n",
      "6945/6945 [==============================] - 0s 19us/step - loss: 0.1778 - accuracy: 0.9297\n",
      "Epoch 136/150\n",
      "6945/6945 [==============================] - 0s 18us/step - loss: 0.1980 - accuracy: 0.9205\n",
      "Epoch 137/150\n",
      "6945/6945 [==============================] - 0s 18us/step - loss: 0.1938 - accuracy: 0.9284\n",
      "Epoch 138/150\n",
      "6945/6945 [==============================] - 0s 21us/step - loss: 0.1774 - accuracy: 0.9345\n",
      "Epoch 139/150\n",
      "6945/6945 [==============================] - 0s 20us/step - loss: 0.1715 - accuracy: 0.9369\n",
      "Epoch 140/150\n",
      "6945/6945 [==============================] - 0s 21us/step - loss: 0.1693 - accuracy: 0.9364\n",
      "Epoch 141/150\n",
      "6945/6945 [==============================] - 0s 18us/step - loss: 0.1737 - accuracy: 0.9361\n",
      "Epoch 142/150\n",
      "6945/6945 [==============================] - 0s 20us/step - loss: 0.1894 - accuracy: 0.9316\n",
      "Epoch 143/150\n",
      "6945/6945 [==============================] - 0s 18us/step - loss: 0.1646 - accuracy: 0.9394\n",
      "Epoch 144/150\n",
      "6945/6945 [==============================] - 0s 20us/step - loss: 0.1719 - accuracy: 0.9312\n",
      "Epoch 145/150\n",
      "6945/6945 [==============================] - 0s 19us/step - loss: 0.1783 - accuracy: 0.9306\n",
      "Epoch 146/150\n",
      "6945/6945 [==============================] - 0s 20us/step - loss: 0.1886 - accuracy: 0.9247\n",
      "Epoch 147/150\n",
      "6945/6945 [==============================] - 0s 17us/step - loss: 0.1834 - accuracy: 0.9309\n",
      "Epoch 148/150\n",
      "6945/6945 [==============================] - 0s 21us/step - loss: 0.1749 - accuracy: 0.9356\n",
      "Epoch 149/150\n",
      "6945/6945 [==============================] - 0s 18us/step - loss: 0.1729 - accuracy: 0.9413\n",
      "Epoch 150/150\n",
      "6945/6945 [==============================] - 0s 18us/step - loss: 0.1693 - accuracy: 0.9427\n",
      "trained neural network\n"
     ]
    }
   ],
   "source": [
    "knn_model,knn_y_predict = my_k_nearest_neighbors.k_nearest_neighbours(X_train, X_test, y_train, y_test)\n",
    "print(\"trained knn\")\n",
    "\n",
    "dt_model,dt_y_predict = my_decision_tree.decision_tree(X_train, X_test, y_train, y_test)\n",
    "print(\"trained decision tree\")\n",
    "\n",
    "nn_model,nn_y_predict = my_neural_network.neural_network(X_train, X_test, y_train, y_test)\n",
    "print(\"trained neural network\")"
   ]
  },
  {
   "cell_type": "code",
   "execution_count": 33,
   "metadata": {},
   "outputs": [
    {
     "name": "stdout",
     "output_type": "stream",
     "text": [
      " *** GENUINE USER *** \n"
     ]
    }
   ],
   "source": [
    "#for single test case\n",
    "if(nn_y_predict[0]+knn_y_predict[0]+dt_y_predict[0]>1):\n",
    "    hybrid_model_y = 1                #fake\n",
    "    print(\" ~~~ FAKE USER ~~~ \")\n",
    "else:\n",
    "    hybrid_model_y = 0                #genuine\n",
    "    print(\" *** GENUINE USER *** \")\n",
    "\n",
    "#print(hybrid_model_y)        "
   ]
  },
  {
   "cell_type": "code",
   "execution_count": 34,
   "metadata": {},
   "outputs": [
    {
     "data": {
      "text/plain": [
       "(array([1], dtype=int32), 0, 0)"
      ]
     },
     "execution_count": 34,
     "metadata": {},
     "output_type": "execute_result"
    }
   ],
   "source": [
    "nn_y_predict[0], knn_y_predict[0], dt_y_predict[0]"
   ]
  },
  {
   "cell_type": "code",
   "execution_count": 35,
   "metadata": {},
   "outputs": [
    {
     "data": {
      "text/plain": [
       "'\\nhybrid_model_y=[]\\nfor i in range(len(y_test)):\\n    if(nn_y_predict[i]+knn_y_predict[i]+dt_y_predict[i] >1):\\n        hybrid_model_y.append(1)\\n    else:\\n        hybrid_model_y.append(0)\\n\\nconf_matrix = confusion_matrix(y_test, hybrid_model_y)\\n\\n'"
      ]
     },
     "execution_count": 35,
     "metadata": {},
     "output_type": "execute_result"
    }
   ],
   "source": [
    "#for multiple test cases\n",
    "\"\"\"\n",
    "hybrid_model_y=[]\n",
    "for i in range(len(y_test)):\n",
    "    if(nn_y_predict[i]+knn_y_predict[i]+dt_y_predict[i] >1):\n",
    "        hybrid_model_y.append(1)\n",
    "    else:\n",
    "        hybrid_model_y.append(0)\n",
    "\n",
    "conf_matrix = confusion_matrix(y_test, hybrid_model_y)\n",
    "\n",
    "\"\"\""
   ]
  },
  {
   "cell_type": "code",
   "execution_count": null,
   "metadata": {},
   "outputs": [],
   "source": []
  },
  {
   "cell_type": "code",
   "execution_count": null,
   "metadata": {},
   "outputs": [],
   "source": []
  }
 ],
 "metadata": {
  "kernelspec": {
   "display_name": "Python 3",
   "language": "python",
   "name": "python3"
  },
  "language_info": {
   "codemirror_mode": {
    "name": "ipython",
    "version": 3
   },
   "file_extension": ".py",
   "mimetype": "text/x-python",
   "name": "python",
   "nbconvert_exporter": "python",
   "pygments_lexer": "ipython3",
   "version": "3.6.9"
  }
 },
 "nbformat": 4,
 "nbformat_minor": 2
}
