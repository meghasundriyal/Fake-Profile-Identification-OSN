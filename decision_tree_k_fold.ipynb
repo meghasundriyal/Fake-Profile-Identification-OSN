{
 "cells": [
  {
   "cell_type": "markdown",
   "metadata": {},
   "source": [
    "<center>\n",
    "    <H1> DECISION TREE K-FOLD VALIDATION </H1>\n",
    "    <br>\n",
    "======================================================================================================================\n",
    "<br>\n",
    "A Decision Tree is a simple classification algorithm in which rules are learned from the training data in the if-else structure. It represents a tree-like structure, where each node is a rule or condition which divides the data set into sub-classes. To cross valiadte the performance of the DT classifier, k-fold validation method was applied, using k=10."
   ]
  },
  {
   "cell_type": "markdown",
   "metadata": {},
   "source": [
    "## STEP 1: IMPORT LIBRARIES"
   ]
  },
  {
   "cell_type": "code",
   "execution_count": 29,
   "metadata": {},
   "outputs": [],
   "source": [
    "import pandas as pd\n",
    "import numpy as np\n",
    "from sklearn.tree import DecisionTreeClassifier # Import Decision Tree Classifier\n",
    "from sklearn.model_selection import train_test_split # Import train_test_split function\n",
    "from sklearn.model_selection import KFold\n",
    "from sklearn.metrics import confusion_matrix, accuracy_score"
   ]
  },
  {
   "cell_type": "markdown",
   "metadata": {},
   "source": [
    "## STEP 2: LOAD DATASET"
   ]
  },
  {
   "cell_type": "code",
   "execution_count": 30,
   "metadata": {},
   "outputs": [
    {
     "data": {
      "text/html": [
       "<div>\n",
       "<style scoped>\n",
       "    .dataframe tbody tr th:only-of-type {\n",
       "        vertical-align: middle;\n",
       "    }\n",
       "\n",
       "    .dataframe tbody tr th {\n",
       "        vertical-align: top;\n",
       "    }\n",
       "\n",
       "    .dataframe thead th {\n",
       "        text-align: right;\n",
       "    }\n",
       "</style>\n",
       "<table border=\"1\" class=\"dataframe\">\n",
       "  <thead>\n",
       "    <tr style=\"text-align: right;\">\n",
       "      <th></th>\n",
       "      <th>name_wt</th>\n",
       "      <th>statuses_count</th>\n",
       "      <th>followers_count</th>\n",
       "      <th>friends_count</th>\n",
       "      <th>favourites_count</th>\n",
       "      <th>listed_count</th>\n",
       "      <th>label</th>\n",
       "    </tr>\n",
       "  </thead>\n",
       "  <tbody>\n",
       "    <tr>\n",
       "      <th>0</th>\n",
       "      <td>0.937500</td>\n",
       "      <td>43</td>\n",
       "      <td>5</td>\n",
       "      <td>34</td>\n",
       "      <td>0</td>\n",
       "      <td>0</td>\n",
       "      <td>1</td>\n",
       "    </tr>\n",
       "    <tr>\n",
       "      <th>1</th>\n",
       "      <td>0.909091</td>\n",
       "      <td>12204</td>\n",
       "      <td>1182</td>\n",
       "      <td>1327</td>\n",
       "      <td>0</td>\n",
       "      <td>4</td>\n",
       "      <td>1</td>\n",
       "    </tr>\n",
       "    <tr>\n",
       "      <th>2</th>\n",
       "      <td>0.909091</td>\n",
       "      <td>42</td>\n",
       "      <td>3</td>\n",
       "      <td>34</td>\n",
       "      <td>0</td>\n",
       "      <td>0</td>\n",
       "      <td>1</td>\n",
       "    </tr>\n",
       "    <tr>\n",
       "      <th>3</th>\n",
       "      <td>1.000000</td>\n",
       "      <td>215</td>\n",
       "      <td>1158</td>\n",
       "      <td>1545</td>\n",
       "      <td>0</td>\n",
       "      <td>21</td>\n",
       "      <td>1</td>\n",
       "    </tr>\n",
       "    <tr>\n",
       "      <th>4</th>\n",
       "      <td>0.285714</td>\n",
       "      <td>38420</td>\n",
       "      <td>2293</td>\n",
       "      <td>2198</td>\n",
       "      <td>1987</td>\n",
       "      <td>2</td>\n",
       "      <td>0</td>\n",
       "    </tr>\n",
       "  </tbody>\n",
       "</table>\n",
       "</div>"
      ],
      "text/plain": [
       "    name_wt  statuses_count  followers_count  friends_count  favourites_count  \\\n",
       "0  0.937500              43                5             34                 0   \n",
       "1  0.909091           12204             1182           1327                 0   \n",
       "2  0.909091              42                3             34                 0   \n",
       "3  1.000000             215             1158           1545                 0   \n",
       "4  0.285714           38420             2293           2198              1987   \n",
       "\n",
       "   listed_count  label  \n",
       "0             0      1  \n",
       "1             4      1  \n",
       "2             0      1  \n",
       "3            21      1  \n",
       "4             2      0  "
      ]
     },
     "execution_count": 30,
     "metadata": {},
     "output_type": "execute_result"
    }
   ],
   "source": [
    "dataset = pd.read_csv('data/twitter_dataset.csv', encoding = 'latin-1')\n",
    "dataset.head()"
   ]
  },
  {
   "cell_type": "code",
   "execution_count": 31,
   "metadata": {},
   "outputs": [
    {
     "data": {
      "text/plain": [
       "['name_wt',\n",
       " 'statuses_count',\n",
       " 'followers_count',\n",
       " 'friends_count',\n",
       " 'favourites_count',\n",
       " 'listed_count']"
      ]
     },
     "execution_count": 31,
     "metadata": {},
     "output_type": "execute_result"
    }
   ],
   "source": [
    "# Independent attributes\n",
    "features=[]\n",
    "for attributes in dataset.columns:\n",
    "    if attributes != 'label':\n",
    "        features.append(attributes)\n",
    "features"
   ]
  },
  {
   "cell_type": "code",
   "execution_count": 32,
   "metadata": {},
   "outputs": [],
   "source": [
    "#split dataset in features and target variable\n",
    "X = dataset[features] # Features\n",
    "y = dataset.label # Target variable"
   ]
  },
  {
   "cell_type": "markdown",
   "metadata": {},
   "source": [
    "## STEP 3: CROSS VALIDATION \n",
    "\n",
    "The dataset will be divided into k numer of splits. At each iteration one of the split will be used as test set and rest will be used as training set. Here, dataset was cross validated using 10 folds. Hence 10 iterations were performed and peformance measure at each iteration was evaluated separately. "
   ]
  },
  {
   "cell_type": "code",
   "execution_count": 36,
   "metadata": {},
   "outputs": [
    {
     "name": "stdout",
     "output_type": "stream",
     "text": [
      "KFold(n_splits=10, random_state=None, shuffle=False)\n"
     ]
    }
   ],
   "source": [
    "#randomly divide the entire dataset into k sets, where k is the number of folds.\n",
    "\n",
    "number_of_splits=10   #defines k  (practically obtained optimal value for k)\n",
    "X = np.array(dataset[features]) # Features\n",
    "y = np.array(dataset.label)\n",
    "kf = KFold(n_splits=number_of_splits)\n",
    "kf.get_n_splits(X)\n",
    "\n",
    "print(kf)"
   ]
  },
  {
   "cell_type": "code",
   "execution_count": 37,
   "metadata": {},
   "outputs": [
    {
     "name": "stdout",
     "output_type": "stream",
     "text": [
      "\n",
      "------ CLASSIFICATION PERFORMANCE FOR ITERATION  1  ------  \n",
      " Recall :  98.08743169398907 %\n",
      " Precision :  97.289972899729 %\n",
      " Accuracy :  97.55395683453237 %\n",
      " F-measure :  97.68707482993196 %\n",
      "\n",
      "------ CLASSIFICATION PERFORMANCE FOR ITERATION  2  ------  \n",
      " Recall :  96.7551622418879 %\n",
      " Precision :  98.79518072289156 %\n",
      " Accuracy :  97.84172661870504 %\n",
      " F-measure :  97.7645305514158 %\n",
      "\n",
      "------ CLASSIFICATION PERFORMANCE FOR ITERATION  3  ------  \n",
      " Recall :  97.61904761904762 %\n",
      " Precision :  97.91044776119404 %\n",
      " Accuracy :  97.84172661870504 %\n",
      " F-measure :  97.7645305514158 %\n",
      "\n",
      "------ CLASSIFICATION PERFORMANCE FOR ITERATION  4  ------  \n",
      " Recall :  98.78419452887537 %\n",
      " Precision :  98.18731117824774 %\n",
      " Accuracy :  98.56115107913669 %\n",
      " F-measure :  98.48484848484848 %\n",
      "\n",
      "------ CLASSIFICATION PERFORMANCE FOR ITERATION  5  ------  \n",
      " Recall :  95.17045454545455 %\n",
      " Precision :  96.26436781609196 %\n",
      " Accuracy :  95.68345323741008 %\n",
      " F-measure :  95.71428571428571 %\n",
      "\n",
      "------ CLASSIFICATION PERFORMANCE FOR ITERATION  6  ------  \n",
      " Recall :  96.66666666666667 %\n",
      " Precision :  97.20670391061452 %\n",
      " Accuracy :  96.82997118155619 %\n",
      " F-measure :  96.93593314763231 %\n",
      "\n",
      "------ CLASSIFICATION PERFORMANCE FOR ITERATION  7  ------  \n",
      " Recall :  98.79518072289156 %\n",
      " Precision :  97.3293768545994 %\n",
      " Accuracy :  98.12680115273776 %\n",
      " F-measure :  98.05680119581464 %\n",
      "\n",
      "------ CLASSIFICATION PERFORMANCE FOR ITERATION  8  ------  \n",
      " Recall :  96.42857142857143 %\n",
      " Precision :  97.7715877437326 %\n",
      " Accuracy :  96.97406340057637 %\n",
      " F-measure :  97.0954356846473 %\n",
      "\n",
      "------ CLASSIFICATION PERFORMANCE FOR ITERATION  9  ------  \n",
      " Recall :  97.91666666666666 %\n",
      " Precision :  97.33727810650888 %\n",
      " Accuracy :  97.69452449567724 %\n",
      " F-measure :  97.62611275964392 %\n",
      "\n",
      "------ CLASSIFICATION PERFORMANCE FOR ITERATION  10  ------  \n",
      " Recall :  98.88268156424581 %\n",
      " Precision :  98.33333333333333 %\n",
      " Accuracy :  98.55907780979827 %\n",
      " F-measure :  98.60724233983287 %\n"
     ]
    }
   ],
   "source": [
    "#perform Decision Tree classification k times\n",
    "k = 0\n",
    "#initializing each performance metric with 0\n",
    "recall_avg=0\n",
    "precision_avg=0\n",
    "fmeasure_avg=0\n",
    "accuracy_avg=0\n",
    "\n",
    "for train_index, test_index in kf.split(X):\n",
    "    k = k+1   #number of iteration\n",
    "    #print(\"TRAIN:\", train_index, \"TEST:\", test_index)\n",
    "    X_train, X_test = X[train_index], X[test_index]\n",
    "    y_train, y_test = y[train_index], y[test_index]\n",
    "    \n",
    "    # Create Decision Tree classifer object\n",
    "    clf = DecisionTreeClassifier(min_impurity_decrease=0.001)\n",
    "\n",
    "    # Train Decision Tree Classifer\n",
    "    clf = clf.fit(X_train,y_train)\n",
    "\n",
    "    #Predict the response for test dataset\n",
    "    y_predict = clf.predict(X_test)\n",
    "\n",
    "    ## Perormance evaluation of the Model\n",
    "\n",
    "    #true negatives is C(0,0), false negatives is C(1,0), false positives is C(0,1) and true positives is C(1,1) \n",
    "    conf_matrix = confusion_matrix(y_test, y_predict)\n",
    "\n",
    "    #true_negative\n",
    "    TN = conf_matrix[0][0]\n",
    "    #false_negative\n",
    "    FN = conf_matrix[1][0]\n",
    "    #false_positive\n",
    "    FP = conf_matrix[0][1]\n",
    "    #true_positive\n",
    "    TP = conf_matrix[1][1]\n",
    "\n",
    "    # Recall is the ratio of the total number of correctly classified positive examples divided by the total number of positive examples. \n",
    "    # High Recall indicates the class is correctly recognized (small number of FN)\n",
    "    recall = (TP)/(TP + FN)\n",
    "    recall_avg += recall\n",
    "    \n",
    "    # Precision is the the total number of correctly classified positive examples divided by the total number of predicted positive examples. \n",
    "    # High Precision indicates an example labeled as positive is indeed positive (small number of FP)\n",
    "    precision = (TP)/(TP + FP)\n",
    "    precision_avg += precision\n",
    "    \n",
    "    fmeasure = (2*recall*precision)/(recall+precision)\n",
    "    fmeasure_avg += fmeasure\n",
    "    \n",
    "    accuracy = (TP + TN)/(TN + FN + FP + TP)\n",
    "    accuracy_avg += accuracy\n",
    "    #accuracy_score(y_test, y_predict)\n",
    "    \n",
    "    print(\"\\n------ CLASSIFICATION PERFORMANCE FOR ITERATION \", k, \" ------ \",\n",
    "      \"\\n Recall : \", (recall*100) ,\"%\" \\\n",
    "      \"\\n Precision : \", (precision*100) ,\"%\" \\\n",
    "      \"\\n Accuracy : \", (accuracy*100) ,\"%\" \\\n",
    "      \"\\n F-measure : \", (fmeasure*100) ,\"%\" )\n"
   ]
  },
  {
   "cell_type": "markdown",
   "metadata": {},
   "source": [
    "## STEP 4: AVERAGR PERFORMANCE  "
   ]
  },
  {
   "cell_type": "code",
   "execution_count": 38,
   "metadata": {},
   "outputs": [
    {
     "name": "stdout",
     "output_type": "stream",
     "text": [
      "\n",
      "------ AVERAGE CLASSIFICATION PERFORMANCE OF DECISION TREE MODEL ------ \n",
      "\n",
      " Recall :  98.88268156424581 %\n",
      " Precision :  98.33333333333333 %\n",
      " Accuracy :  98.55907780979827 %\n",
      " F-measure :  98.60724233983287 %\n"
     ]
    }
   ],
   "source": [
    "recall_avg = recall_avg/number_of_splits\n",
    "precision_avg = precision_avg/number_of_splits\n",
    "fmeasure_avg = fmeasure_avg/number_of_splits\n",
    "accuracy_avg = accuracy_avg/number_of_splits\n",
    "\n",
    "print(\"\\n------ AVERAGE CLASSIFICATION PERFORMANCE OF DECISION TREE MODEL ------ \\n\"\\\n",
    "      \"\\n Recall : \", (recall*100) ,\"%\" \\\n",
    "      \"\\n Precision : \", (precision*100) ,\"%\" \\\n",
    "      \"\\n Accuracy : \", (accuracy*100) ,\"%\" \\\n",
    "      \"\\n F-measure : \", (fmeasure*100) ,\"%\" )"
   ]
  },
  {
   "cell_type": "code",
   "execution_count": null,
   "metadata": {},
   "outputs": [],
   "source": []
  },
  {
   "cell_type": "code",
   "execution_count": null,
   "metadata": {},
   "outputs": [],
   "source": []
  },
  {
   "cell_type": "code",
   "execution_count": null,
   "metadata": {},
   "outputs": [],
   "source": []
  },
  {
   "cell_type": "code",
   "execution_count": null,
   "metadata": {},
   "outputs": [],
   "source": []
  }
 ],
 "metadata": {
  "kernelspec": {
   "display_name": "Python 3",
   "language": "python",
   "name": "python3"
  },
  "language_info": {
   "codemirror_mode": {
    "name": "ipython",
    "version": 3
   },
   "file_extension": ".py",
   "mimetype": "text/x-python",
   "name": "python",
   "nbconvert_exporter": "python",
   "pygments_lexer": "ipython3",
   "version": "3.6.9"
  }
 },
 "nbformat": 4,
 "nbformat_minor": 2
}
