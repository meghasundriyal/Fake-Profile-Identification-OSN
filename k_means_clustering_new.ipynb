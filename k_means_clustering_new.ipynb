{
 "cells": [
  {
   "cell_type": "markdown",
   "metadata": {},
   "source": [
    "# <center>k-Means Clustering\n",
    "========================================================================================================================    \n",
    "</center>\n",
    "K-Means Clustering is one of the best clustering algorithm. We want to check if we can use Clustering to detect fake proflies on Twitter. "
   ]
  },
  {
   "cell_type": "markdown",
   "metadata": {},
   "source": [
    "## STEP 1: IMPORT LIBRARIES"
   ]
  },
  {
   "cell_type": "code",
   "execution_count": 48,
   "metadata": {},
   "outputs": [],
   "source": [
    "import pandas as pd\n",
    "import numpy as np\n",
    "from sklearn.cluster import KMeans\n",
    "from sklearn.preprocessing import LabelEncoder\n",
    "from sklearn.preprocessing import MinMaxScaler\n",
    "from sklearn.model_selection import train_test_split \n",
    "from sklearn.metrics import confusion_matrix, accuracy_score\n",
    "import matplotlib.pyplot as plt\n",
    "from sklearn.decomposition import PCA\n",
    "import pylab as pl\n",
    "#%matplotlib inline"
   ]
  },
  {
   "cell_type": "markdown",
   "metadata": {},
   "source": [
    "## STEP 2: LOAD DATASET"
   ]
  },
  {
   "cell_type": "code",
   "execution_count": 49,
   "metadata": {},
   "outputs": [
    {
     "data": {
      "text/html": [
       "<div>\n",
       "<style scoped>\n",
       "    .dataframe tbody tr th:only-of-type {\n",
       "        vertical-align: middle;\n",
       "    }\n",
       "\n",
       "    .dataframe tbody tr th {\n",
       "        vertical-align: top;\n",
       "    }\n",
       "\n",
       "    .dataframe thead th {\n",
       "        text-align: right;\n",
       "    }\n",
       "</style>\n",
       "<table border=\"1\" class=\"dataframe\">\n",
       "  <thead>\n",
       "    <tr style=\"text-align: right;\">\n",
       "      <th></th>\n",
       "      <th>name_wt</th>\n",
       "      <th>statuses_count</th>\n",
       "      <th>followers_count</th>\n",
       "      <th>friends_count</th>\n",
       "      <th>favourites_count</th>\n",
       "      <th>listed_count</th>\n",
       "      <th>label</th>\n",
       "    </tr>\n",
       "  </thead>\n",
       "  <tbody>\n",
       "    <tr>\n",
       "      <th>0</th>\n",
       "      <td>0.937500</td>\n",
       "      <td>43</td>\n",
       "      <td>5</td>\n",
       "      <td>34</td>\n",
       "      <td>0</td>\n",
       "      <td>0</td>\n",
       "      <td>1</td>\n",
       "    </tr>\n",
       "    <tr>\n",
       "      <th>1</th>\n",
       "      <td>0.909091</td>\n",
       "      <td>12204</td>\n",
       "      <td>1182</td>\n",
       "      <td>1327</td>\n",
       "      <td>0</td>\n",
       "      <td>4</td>\n",
       "      <td>1</td>\n",
       "    </tr>\n",
       "    <tr>\n",
       "      <th>2</th>\n",
       "      <td>0.909091</td>\n",
       "      <td>42</td>\n",
       "      <td>3</td>\n",
       "      <td>34</td>\n",
       "      <td>0</td>\n",
       "      <td>0</td>\n",
       "      <td>1</td>\n",
       "    </tr>\n",
       "    <tr>\n",
       "      <th>3</th>\n",
       "      <td>1.000000</td>\n",
       "      <td>215</td>\n",
       "      <td>1158</td>\n",
       "      <td>1545</td>\n",
       "      <td>0</td>\n",
       "      <td>21</td>\n",
       "      <td>1</td>\n",
       "    </tr>\n",
       "    <tr>\n",
       "      <th>4</th>\n",
       "      <td>0.285714</td>\n",
       "      <td>38420</td>\n",
       "      <td>2293</td>\n",
       "      <td>2198</td>\n",
       "      <td>1987</td>\n",
       "      <td>2</td>\n",
       "      <td>0</td>\n",
       "    </tr>\n",
       "  </tbody>\n",
       "</table>\n",
       "</div>"
      ],
      "text/plain": [
       "    name_wt  statuses_count  followers_count  friends_count  favourites_count  \\\n",
       "0  0.937500              43                5             34                 0   \n",
       "1  0.909091           12204             1182           1327                 0   \n",
       "2  0.909091              42                3             34                 0   \n",
       "3  1.000000             215             1158           1545                 0   \n",
       "4  0.285714           38420             2293           2198              1987   \n",
       "\n",
       "   listed_count  label  \n",
       "0             0      1  \n",
       "1             4      1  \n",
       "2             0      1  \n",
       "3            21      1  \n",
       "4             2      0  "
      ]
     },
     "execution_count": 49,
     "metadata": {},
     "output_type": "execute_result"
    }
   ],
   "source": [
    "dataset = pd.read_csv('data/twitter_dataset.csv', encoding = 'latin-1')\n",
    "dataset.head()"
   ]
  },
  {
   "cell_type": "code",
   "execution_count": 50,
   "metadata": {},
   "outputs": [
    {
     "data": {
      "text/plain": [
       "(6945, 7)"
      ]
     },
     "execution_count": 50,
     "metadata": {},
     "output_type": "execute_result"
    }
   ],
   "source": [
    "dataset.shape"
   ]
  },
  {
   "cell_type": "markdown",
   "metadata": {},
   "source": [
    "## STEP 3: CREATE NEW DATASET WITHOUT LABELS\n",
    "\n",
    "Remove labels of the dataset"
   ]
  },
  {
   "cell_type": "code",
   "execution_count": 51,
   "metadata": {},
   "outputs": [
    {
     "data": {
      "text/plain": [
       "['name_wt',\n",
       " 'statuses_count',\n",
       " 'followers_count',\n",
       " 'friends_count',\n",
       " 'favourites_count',\n",
       " 'listed_count']"
      ]
     },
     "execution_count": 51,
     "metadata": {},
     "output_type": "execute_result"
    }
   ],
   "source": [
    "#List of attributes\n",
    "features=[]\n",
    "for attributes in dataset.columns:\n",
    "    if attributes != 'label':\n",
    "        features.append(attributes)\n",
    "features"
   ]
  },
  {
   "cell_type": "code",
   "execution_count": 52,
   "metadata": {},
   "outputs": [
    {
     "data": {
      "text/plain": [
       "array([1, 1, 1, ..., 1, 0, 1], dtype=int64)"
      ]
     },
     "execution_count": 52,
     "metadata": {},
     "output_type": "execute_result"
    }
   ],
   "source": [
    "y = np.array(dataset['label'])\n",
    "y"
   ]
  },
  {
   "cell_type": "code",
   "execution_count": 53,
   "metadata": {},
   "outputs": [
    {
     "data": {
      "text/plain": [
       "array([[9.37500000e-01, 4.30000000e+01, 5.00000000e+00, 3.40000000e+01,\n",
       "        0.00000000e+00, 0.00000000e+00],\n",
       "       [9.09090909e-01, 1.22040000e+04, 1.18200000e+03, 1.32700000e+03,\n",
       "        0.00000000e+00, 4.00000000e+00],\n",
       "       [9.09090909e-01, 4.20000000e+01, 3.00000000e+00, 3.40000000e+01,\n",
       "        0.00000000e+00, 0.00000000e+00],\n",
       "       ...,\n",
       "       [8.18181818e-01, 1.04390000e+04, 7.80000000e+01, 8.20000000e+01,\n",
       "        0.00000000e+00, 3.90000000e+01],\n",
       "       [9.09090909e-01, 5.25000000e+02, 3.60000000e+01, 7.10000000e+01,\n",
       "        5.30000000e+01, 0.00000000e+00],\n",
       "       [5.45454545e-01, 1.26200000e+04, 6.13000000e+02, 2.00200000e+03,\n",
       "        2.00000000e+00, 6.00000000e+00]])"
      ]
     },
     "execution_count": 53,
     "metadata": {},
     "output_type": "execute_result"
    }
   ],
   "source": [
    "#Drop 'label' of each instance \n",
    "X = np.array(dataset.drop(['label'], 1).astype(float))\n",
    "X"
   ]
  },
  {
   "cell_type": "code",
   "execution_count": 54,
   "metadata": {},
   "outputs": [
    {
     "data": {
      "text/plain": [
       "(6945, 6)"
      ]
     },
     "execution_count": 54,
     "metadata": {},
     "output_type": "execute_result"
    }
   ],
   "source": [
    "X.shape"
   ]
  },
  {
   "cell_type": "markdown",
   "metadata": {},
   "source": [
    "## STEP 4: FIND OPTIMAL NUMBER OF CLUSTERS"
   ]
  },
  {
   "cell_type": "code",
   "execution_count": 55,
   "metadata": {},
   "outputs": [
    {
     "data": {
      "text/plain": [
       "array([[9.37500000e-01, 1.07619727e-04, 5.06669288e-06, 2.38277116e-04,\n",
       "        0.00000000e+00, 0.00000000e+00],\n",
       "       [9.09090909e-01, 3.05439802e-02, 1.19776620e-03, 9.29981569e-03,\n",
       "        0.00000000e+00, 2.20580126e-04],\n",
       "       [9.09090909e-01, 1.05116943e-04, 3.04001573e-06, 2.38277116e-04,\n",
       "        0.00000000e+00, 0.00000000e+00],\n",
       "       ...,\n",
       "       [8.18181818e-01, 2.61265658e-02, 7.90404089e-05, 5.74668339e-04,\n",
       "        0.00000000e+00, 2.15065623e-03],\n",
       "       [9.09090909e-01, 1.31396178e-03, 3.64801887e-05, 4.97578684e-04,\n",
       "        1.68814540e-04, 0.00000000e+00],\n",
       "       [5.45454545e-01, 3.15851385e-02, 6.21176547e-04, 1.40303173e-02,\n",
       "        6.37035999e-06, 3.30870189e-04]])"
      ]
     },
     "execution_count": 55,
     "metadata": {},
     "output_type": "execute_result"
    }
   ],
   "source": [
    "#normalizing the data\n",
    "scaler = MinMaxScaler()\n",
    "X_scaled = scaler.fit_transform(X)\n",
    "X_scaled"
   ]
  },
  {
   "cell_type": "code",
   "execution_count": 56,
   "metadata": {},
   "outputs": [
    {
     "data": {
      "text/plain": [
       "<matplotlib.collections.PathCollection at 0x27cbade0fd0>"
      ]
     },
     "execution_count": 56,
     "metadata": {},
     "output_type": "execute_result"
    },
    {
     "data": {
      "image/png": "[encoded data removed]",
      "text/plain": [
       "<Figure size 432x288 with 1 Axes>"
      ]
     },
     "metadata": {
      "needs_background": "light"
     },
     "output_type": "display_data"
    }
   ],
   "source": [
    "plt.scatter(X_scaled[:,0],X_scaled[:,1], label='True Position')"
   ]
  },
  {
   "cell_type": "code",
   "execution_count": 57,
   "metadata": {},
   "outputs": [],
   "source": [
    "Sum_of_squared_distances = []\n",
    "K = range(1,10)\n",
    "for k in K:\n",
    "    km = KMeans(n_clusters=k)\n",
    "    km = km.fit(X_scaled)\n",
    "    Sum_of_squared_distances.append(km.inertia_)"
   ]
  },
  {
   "cell_type": "code",
   "execution_count": 58,
   "metadata": {},
   "outputs": [
    {
     "data": {
      "image/png": "[encoded data removed]",
      "text/plain": [
       "<Figure size 432x288 with 1 Axes>"
      ]
     },
     "metadata": {
      "needs_background": "light"
     },
     "output_type": "display_data"
    }
   ],
   "source": [
    "plt.plot(K, Sum_of_squared_distances, 'bx-')\n",
    "plt.xlabel('k')\n",
    "plt.ylabel('Sum_of_squared_distances')\n",
    "plt.title('Elbow Method For Optimal k')\n",
    "plt.show()"
   ]
  },
  {
   "cell_type": "markdown",
   "metadata": {},
   "source": [
    "## STEP 5: PLOT ORIGINAL DATASET USING PCA"
   ]
  },
  {
   "cell_type": "code",
   "execution_count": 59,
   "metadata": {},
   "outputs": [
    {
     "data": {
      "text/plain": [
       "array([[-0.28020446, -0.00997201],\n",
       "       [-0.2502784 ,  0.01886285],\n",
       "       [-0.25183568, -0.01147055],\n",
       "       ...,\n",
       "       [-0.15973128,  0.00926623],\n",
       "       [-0.25177133, -0.01024205],\n",
       "       [ 0.11290039,  0.00097436]])"
      ]
     },
     "execution_count": 59,
     "metadata": {},
     "output_type": "execute_result"
    }
   ],
   "source": [
    "#applying PCA on scaled dataset\n",
    "pca = PCA(n_components=2).fit(X_scaled)\n",
    "pca_2d = pca.transform(X_scaled)\n",
    "\n",
    "pca_2d"
   ]
  },
  {
   "cell_type": "code",
   "execution_count": 60,
   "metadata": {},
   "outputs": [
    {
     "data": {
      "image/png": "[encoded data removed]",
      "text/plain": [
       "<Figure size 432x288 with 1 Axes>"
      ]
     },
     "metadata": {
      "needs_background": "light"
     },
     "output_type": "display_data"
    }
   ],
   "source": [
    "#Plotting original dataset based on lables after applying PCA\n",
    "\n",
    "for i in range(0, pca_2d.shape[0]):\n",
    "    if y[i] == 0:\n",
    "        c1 = pl.scatter(pca_2d[i,0],pca_2d[i,1],c='r',marker='*')\n",
    "    \n",
    "    elif y[i] == 1:\n",
    "        c2 = pl.scatter(pca_2d[i,0],pca_2d[i,1],c='b',marker='+')\n",
    "        \n",
    "pl.legend([c1, c2], ['Genuine', 'Fake'])\n",
    "pl.title('Twitter dataset with 2 clusters and known outcomes')\n",
    "pl.show()"
   ]
  },
  {
   "cell_type": "markdown",
   "metadata": {},
   "source": [
    "## STEP 6: APPLY k-MEANS CLUSTERING "
   ]
  },
  {
   "cell_type": "code",
   "execution_count": 61,
   "metadata": {},
   "outputs": [
    {
     "data": {
      "text/plain": [
       "(6945, 2)"
      ]
     },
     "execution_count": 61,
     "metadata": {},
     "output_type": "execute_result"
    }
   ],
   "source": [
    "#Thus optimal value for k=2\n",
    "km = KMeans(n_clusters=2)\n",
    "km = km.fit(pca_2d)\n",
    "pca_2d.shape"
   ]
  },
  {
   "cell_type": "code",
   "execution_count": 62,
   "metadata": {},
   "outputs": [
    {
     "name": "stdout",
     "output_type": "stream",
     "text": [
      "[[-0.24003804  0.00091172]\n",
      " [ 0.31844242 -0.00120951]]\n"
     ]
    }
   ],
   "source": [
    "print(km.cluster_centers_)                       #k-Means returns k centroids"
   ]
  },
  {
   "cell_type": "code",
   "execution_count": 63,
   "metadata": {
    "scrolled": true
   },
   "outputs": [
    {
     "data": {
      "image/png": "[encoded data removed]",
      "text/plain": [
       "<Figure size 432x288 with 1 Axes>"
      ]
     },
     "metadata": {
      "needs_background": "light"
     },
     "output_type": "display_data"
    }
   ],
   "source": [
    "#Plotting the data into two clusters\n",
    "\n",
    "for i in range(0, pca_2d.shape[0]):\n",
    "    if km.labels_[i] == 1:\n",
    "        c1 = plt.scatter(pca_2d[i,0],pca_2d[i,1],c='r',marker='+')\n",
    "    \n",
    "    elif km.labels_[i] == 0:\n",
    "        c2 = plt.scatter(pca_2d[i,0],pca_2d[i,1],c='g',marker='o')"
   ]
  },
  {
   "cell_type": "code",
   "execution_count": 64,
   "metadata": {},
   "outputs": [
    {
     "name": "stdout",
     "output_type": "stream",
     "text": [
      "0.2836573074154068\n"
     ]
    }
   ],
   "source": [
    "#Checking predicted labels againest actual labels\n",
    "correct=0\n",
    "for i in range(0, pca_2d.shape[0]):\n",
    "    if km.labels_[i] == y[i]:\n",
    "        #print(km.labels_[i])\n",
    "        correct+=1\n",
    "\n",
    "print(correct/len(y))"
   ]
  },
  {
   "cell_type": "code",
   "execution_count": null,
   "metadata": {},
   "outputs": [],
   "source": []
  },
  {
   "cell_type": "code",
   "execution_count": null,
   "metadata": {},
   "outputs": [],
   "source": []
  }
 ],
 "metadata": {
  "kernelspec": {
   "display_name": "Python 3",
   "language": "python",
   "name": "python3"
  },
  "language_info": {
   "codemirror_mode": {
    "name": "ipython",
    "version": 3
   },
   "file_extension": ".py",
   "mimetype": "text/x-python",
   "name": "python",
   "nbconvert_exporter": "python",
   "pygments_lexer": "ipython3",
   "version": "3.6.9"
  }
 },
 "nbformat": 4,
 "nbformat_minor": 2
}
